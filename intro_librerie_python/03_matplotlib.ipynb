{
  "nbformat": 4,
  "nbformat_minor": 0,
  "metadata": {
    "colab": {
      "name": "03_matplotlib.ipynb",
      "provenance": [],
      "collapsed_sections": [],
      "authorship_tag": "ABX9TyMHrjMczRo+F0b1uwlkBSbo",
      "include_colab_link": true
    },
    "kernelspec": {
      "name": "python3",
      "display_name": "Python 3"
    }
  },
  "cells": [
    {
      "cell_type": "markdown",
      "metadata": {
        "id": "view-in-github",
        "colab_type": "text"
      },
      "source": [
        "<a href=\"https://colab.research.google.com/github/nickprock/corso_data_science/blob/devs/intro_librerie_python/03_matplotlib.ipynb\" target=\"_parent\"><img src=\"https://colab.research.google.com/assets/colab-badge.svg\" alt=\"Open In Colab\"/></a>"
      ]
    },
    {
      "cell_type": "markdown",
      "metadata": {
        "id": "HhPYCExjs6jy",
        "colab_type": "text"
      },
      "source": [
        "# Matplotlib\n",
        "\n",
        "[Matplotlib](https://matplotlib.org/) è la più famosa e diffusa (non l'unica, tra le altre cito plotly e Seaborn) libreria di data visualization per python.\n",
        "\n",
        "![matplotlib](https://matplotlib.org/_static/logo2_compressed.svg)\n",
        "\n",
        "<br>\n",
        "\n",
        "[Image Credits](https://matplotlib.org/)\n",
        "\n",
        "<br>\n",
        "\n",
        "Essendoci un modulo di data visualization in questo notebook ci sarà giusto un'infarinatura sul modulo pyplot."
      ]
    },
    {
      "cell_type": "code",
      "metadata": {
        "id": "7Z3LvO2nv961",
        "colab_type": "code",
        "colab": {}
      },
      "source": [
        "# importare la libreria e usare il comando per vedere i grafici sul notebook\n",
        "\n",
        "import matplotlib.pyplot as plt\n",
        "%matplotlib inline\n",
        "\n",
        "# creazione di due vettori\n",
        "import numpy as np\n",
        "x = np.random.rand(100)\n",
        "y = x**2"
      ],
      "execution_count": 0,
      "outputs": []
    },
    {
      "cell_type": "markdown",
      "metadata": {
        "id": "GSW1t9z8uItz",
        "colab_type": "text"
      },
      "source": [
        "## Creazione del primo grafico\n",
        "\n",
        "Di default viene creato un grafico a linee."
      ]
    },
    {
      "cell_type": "code",
      "metadata": {
        "id": "P29fFKP4tslI",
        "colab_type": "code",
        "colab": {}
      },
      "source": [
        "plt.plot(x)"
      ],
      "execution_count": 0,
      "outputs": []
    },
    {
      "cell_type": "markdown",
      "metadata": {
        "id": "yvK2FhZVuWFZ",
        "colab_type": "text"
      },
      "source": [
        "Creiamo uno scatterplot utilizzando entrambe le variabili."
      ]
    },
    {
      "cell_type": "code",
      "metadata": {
        "id": "k5s3ffvxuPOo",
        "colab_type": "code",
        "colab": {}
      },
      "source": [
        "plt.plot(x,y, \".\")"
      ],
      "execution_count": 0,
      "outputs": []
    },
    {
      "cell_type": "markdown",
      "metadata": {
        "id": "h8zsG-LjuiL6",
        "colab_type": "text"
      },
      "source": [
        "Cambiaree il marker, al posto dei punti inseriamo usiamo le '+'."
      ]
    },
    {
      "cell_type": "code",
      "metadata": {
        "colab_type": "code",
        "id": "69qFb77Vut-F",
        "colab": {}
      },
      "source": [
        "plt.plot(x,y, \"+\")"
      ],
      "execution_count": 0,
      "outputs": []
    },
    {
      "cell_type": "markdown",
      "metadata": {
        "id": "rYN5b0R-uzjY",
        "colab_type": "text"
      },
      "source": [
        "Cambiare colore. Disegniamo sempre delle + ma di colore rosso."
      ]
    },
    {
      "cell_type": "code",
      "metadata": {
        "colab_type": "code",
        "id": "cKMjR9Xyu3dz",
        "colab": {}
      },
      "source": [
        "plt.plot(x,y, \"r+\")"
      ],
      "execution_count": 0,
      "outputs": []
    },
    {
      "cell_type": "markdown",
      "metadata": {
        "id": "KGXSjGRmvETZ",
        "colab_type": "text"
      },
      "source": [
        "Aggiungere un titolo e le etichette sugli assi."
      ]
    },
    {
      "cell_type": "code",
      "metadata": {
        "id": "Tifuw4eiuu8W",
        "colab_type": "code",
        "colab": {}
      },
      "source": [
        "plt.plot(x,y, \"ro\")\n",
        "plt.xlabel(\"x\")\n",
        "plt.ylabel(\"y\")\n",
        "plt.title(\"test\")"
      ],
      "execution_count": 0,
      "outputs": []
    },
    {
      "cell_type": "markdown",
      "metadata": {
        "id": "WzpQco_1wrNF",
        "colab_type": "text"
      },
      "source": [
        "Utilizzando le due variabili separatemente inseriamo una legenda."
      ]
    },
    {
      "cell_type": "code",
      "metadata": {
        "id": "xyvvdsBJvTdf",
        "colab_type": "code",
        "colab": {}
      },
      "source": [
        "plt.plot(x,\"r\", label = \"x\")\n",
        "plt.plot(y,\"b\", label = \"y\")\n",
        "plt.xlabel(\"period\")\n",
        "plt.ylabel(\"value\")\n",
        "plt.title(\"test double series\")\n",
        "plt.legend()"
      ],
      "execution_count": 0,
      "outputs": []
    },
    {
      "cell_type": "markdown",
      "metadata": {
        "id": "TkuIGF3FyHS9",
        "colab_type": "text"
      },
      "source": [
        "Ingrandire la dimensione del grafico."
      ]
    },
    {
      "cell_type": "code",
      "metadata": {
        "id": "W6UV98Ivw2qJ",
        "colab_type": "code",
        "colab": {}
      },
      "source": [
        "plt.rcParams[\"figure.figsize\"] = (18,8)\n",
        "plt.plot(x,\"r\", label = \"x\")\n",
        "plt.plot(y,\"b\", label = \"y\")\n",
        "plt.xlabel(\"period\")\n",
        "plt.ylabel(\"value\")\n",
        "plt.title(\"test double series\")\n",
        "plt.legend()"
      ],
      "execution_count": 0,
      "outputs": []
    },
    {
      "cell_type": "markdown",
      "metadata": {
        "id": "IOKDDBc8y39y",
        "colab_type": "text"
      },
      "source": [
        "## Salvare su file\n",
        "\n",
        "Per esportare il nostro plot\n",
        "\n",
        "\n",
        "\n",
        "```\n",
        "plt.savefig('my_figure.png')\n",
        "```\n",
        "\n",
        "Per approfondimenti consultare il [cheatsheet](https://s3.amazonaws.com/assets.datacamp.com/blog_assets/Python_Matplotlib_Cheat_Sheet.pdf) della libreria.\n",
        "\n"
      ]
    }
  ]
}