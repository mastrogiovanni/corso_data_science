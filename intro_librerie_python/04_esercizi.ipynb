{
  "nbformat": 4,
  "nbformat_minor": 0,
  "metadata": {
    "colab": {
      "name": "04_esercizi.ipynb",
      "provenance": [],
      "collapsed_sections": [],
      "authorship_tag": "ABX9TyPSGuZqRvx20X18+zkSg2o1",
      "include_colab_link": true
    },
    "kernelspec": {
      "name": "python3",
      "display_name": "Python 3"
    }
  },
  "cells": [
    {
      "cell_type": "markdown",
      "metadata": {
        "id": "view-in-github",
        "colab_type": "text"
      },
      "source": [
        "<a href=\"https://colab.research.google.com/github/nickprock/corso_data_science/blob/devs/intro_librerie_python/04_esercizi.ipynb\" target=\"_parent\"><img src=\"https://colab.research.google.com/assets/colab-badge.svg\" alt=\"Open In Colab\"/></a>"
      ]
    },
    {
      "cell_type": "markdown",
      "metadata": {
        "id": "oBwh6hii_gEc",
        "colab_type": "text"
      },
      "source": [
        "# Esercizio 1: Numpy\n",
        "\n",
        "Data la formula della varianza:\n",
        "\n",
        "$\\sigma^{2}$ = $\\frac{\\sum((x - \\bar{x})^{2})}{n}$\n",
        "\n",
        "Calcolare la deviazione standard dell'array *x* NON utilizzando *x.std()* ma ricostruendo la formula."
      ]
    },
    {
      "cell_type": "code",
      "metadata": {
        "id": "maVxfMaJ_a-D",
        "colab_type": "code",
        "colab": {}
      },
      "source": [
        "import numpy as np\n",
        "x = np.array([1, 74, 4, 5, 67, 26, 19, 85, 44, 0])\n",
        "x.std()"
      ],
      "execution_count": 0,
      "outputs": []
    },
    {
      "cell_type": "code",
      "metadata": {
        "id": "LiHgmIV4_-qZ",
        "colab_type": "code",
        "colab": {}
      },
      "source": [
        "# inserire il tuo codice qui"
      ],
      "execution_count": 0,
      "outputs": []
    },
    {
      "cell_type": "markdown",
      "metadata": {
        "id": "WduAn3PRBRkE",
        "colab_type": "text"
      },
      "source": [
        "# Esercizio 2: Pandas e Matplotlib\n",
        "\n",
        "Creato un DataFrame dal dataset **Iris** presente in scikit-learn."
      ]
    },
    {
      "cell_type": "code",
      "metadata": {
        "id": "ujTBdaHSB32q",
        "colab_type": "code",
        "colab": {}
      },
      "source": [
        "import pandas as pd\n",
        "import matplotlib.pyplot as plt\n",
        "%matplotlib inline"
      ],
      "execution_count": 0,
      "outputs": []
    },
    {
      "cell_type": "code",
      "metadata": {
        "id": "lWGK6cxtBs-B",
        "colab_type": "code",
        "colab": {}
      },
      "source": [
        "from sklearn.datasets import load_iris\n",
        "data = load_iris()\n",
        "\n",
        "iris = pd.DataFrame(data.data, columns=data.feature_names)\n",
        "iris[\"target\"] = data.target"
      ],
      "execution_count": 0,
      "outputs": []
    },
    {
      "cell_type": "markdown",
      "metadata": {
        "id": "NiCJ8vW2CawL",
        "colab_type": "text"
      },
      "source": [
        "Visualizzare le prime 5 righe del DataFrame."
      ]
    },
    {
      "cell_type": "code",
      "metadata": {
        "id": "MoEaRt0EBtrA",
        "colab_type": "code",
        "colab": {}
      },
      "source": [
        "# inserisci il tuo codice qui"
      ],
      "execution_count": 0,
      "outputs": []
    },
    {
      "cell_type": "markdown",
      "metadata": {
        "id": "dkOptuZACg8Z",
        "colab_type": "text"
      },
      "source": [
        "Creare un nuovo DataFrame formato da:\n",
        "* petal length\n",
        "* petal width\n",
        "* target"
      ]
    },
    {
      "cell_type": "code",
      "metadata": {
        "id": "xmuGrPtNCSrg",
        "colab_type": "code",
        "colab": {}
      },
      "source": [
        "# inserisci il tuo codice qui"
      ],
      "execution_count": 0,
      "outputs": []
    },
    {
      "cell_type": "markdown",
      "metadata": {
        "id": "ysh2rhwBC1lp",
        "colab_type": "text"
      },
      "source": [
        "Calcolare la correlazione tra le variabili del nuovo DataFrame"
      ]
    },
    {
      "cell_type": "code",
      "metadata": {
        "id": "8TCATX5JCx2q",
        "colab_type": "code",
        "colab": {}
      },
      "source": [
        "# inserisci il tuo codice qui"
      ],
      "execution_count": 0,
      "outputs": []
    },
    {
      "cell_type": "markdown",
      "metadata": {
        "id": "gg3Yk0cCDTVL",
        "colab_type": "text"
      },
      "source": [
        "Creare uno scatterplot con le dimensioni sugli assi date da:\n",
        "* petal length\n",
        "* petal width\n",
        "\n",
        "il colore in base a:\n",
        "* target"
      ]
    },
    {
      "cell_type": "code",
      "metadata": {
        "id": "quLxP7EUDIyI",
        "colab_type": "code",
        "colab": {}
      },
      "source": [
        "# inserisci il tuo codice qui"
      ],
      "execution_count": 0,
      "outputs": []
    }
  ]
}