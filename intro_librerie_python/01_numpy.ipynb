{
  "nbformat": 4,
  "nbformat_minor": 0,
  "metadata": {
    "colab": {
      "name": "01_numpy.ipynb",
      "provenance": [],
      "collapsed_sections": [],
      "authorship_tag": "ABX9TyODyGNq986CJui/yMW0R35B",
      "include_colab_link": true
    },
    "kernelspec": {
      "name": "python3",
      "display_name": "Python 3"
    }
  },
  "cells": [
    {
      "cell_type": "markdown",
      "metadata": {
        "id": "view-in-github",
        "colab_type": "text"
      },
      "source": [
        "<a href=\"https://colab.research.google.com/github/nickprock/corso_data_science/blob/devs/intro_librerie_python/01_numpy.ipynb\" target=\"_parent\"><img src=\"https://colab.research.google.com/assets/colab-badge.svg\" alt=\"Open In Colab\"/></a>"
      ]
    },
    {
      "cell_type": "markdown",
      "metadata": {
        "id": "2ZOadGSbwWZC",
        "colab_type": "text"
      },
      "source": [
        "# NumPy\n",
        "[Numpy](http://www.numpy.org/) è una libreria open source che consente di svolgere mol te operazioni matematiche, in particolare è utilizzata molto per l'algebra lineare e il lavoro con vettori e matrici.\n",
        "\n",
        "<br>\n",
        "<img src='https://scipy-lectures.org/_images/numpy_indexing.png' width=400 heght=400>\n",
        "<br>\n",
        "\n",
        "[**Image Credit**](https://scipy-lectures.org/intro/numpy/array_object.html)\n",
        "<br>\n",
        "\n",
        "Per approfondire e tenere sempre a portata di mano le funzionalità più comuni consultare il [cheatsheet](https://www.datacamp.com/community/blog/python-numpy-cheat-sheet) ufficiale."
      ]
    },
    {
      "cell_type": "code",
      "metadata": {
        "id": "JT64jeGfvHM6",
        "colab_type": "code",
        "colab": {}
      },
      "source": [
        "import numpy as np\n",
        "print('numpy: {}'.format(np.__version__))"
      ],
      "execution_count": 0,
      "outputs": []
    },
    {
      "cell_type": "markdown",
      "metadata": {
        "id": "X6gq_WqMyf9R",
        "colab_type": "text"
      },
      "source": [
        "## Creazione degli array\n",
        "\n",
        "<br>\n",
        "<img src='http://community.datacamp.com.s3.amazonaws.com/community/production/ckeditor_assets/pictures/332/content_arrays-axes.png' width=500 heght=500>\n",
        "<br>\n",
        "\n",
        "[**Image Credit**](https://www.datacamp.com/community/tutorials/python-numpy-tutorial)"
      ]
    },
    {
      "cell_type": "markdown",
      "metadata": {
        "id": "7VIY-U6n3pYN",
        "colab_type": "text"
      },
      "source": [
        "### Creare un array da una lista"
      ]
    },
    {
      "cell_type": "code",
      "metadata": {
        "id": "YdMWwc2BxrFT",
        "colab_type": "code",
        "colab": {}
      },
      "source": [
        "mylist = [1, 2, 3]\n",
        "myarray = np.array(mylist)\n",
        "print(\"dimensioni array originale: \", myarray.shape)\n",
        "\n",
        "# modificare la dimensione di una array\n",
        "myarray.resize(3,3)\n",
        "print(\"dimensioni array modificate: \", myarray.shape)\n",
        "\n",
        "print(\"array modificato: \", \"\\n\", myarray)"
      ],
      "execution_count": 0,
      "outputs": []
    },
    {
      "cell_type": "markdown",
      "metadata": {
        "id": "fUna02tG3u4o",
        "colab_type": "text"
      },
      "source": [
        "### Creare un array di dimensioni definite e valori zero (o uno)"
      ]
    },
    {
      "cell_type": "code",
      "metadata": {
        "id": "i2Fiu21zy2sw",
        "colab_type": "code",
        "colab": {}
      },
      "source": [
        "print(\"array di zero: \", \"\\n\", np.zeros((3,3)))\n",
        "print(\"\\n\")\n",
        "print(\"array di uno: \", \"\\n\", np.ones((1,3)))"
      ],
      "execution_count": 0,
      "outputs": []
    },
    {
      "cell_type": "markdown",
      "metadata": {
        "id": "HPksMJZu32ON",
        "colab_type": "text"
      },
      "source": [
        "### Altri metodi per la creazione di un array"
      ]
    },
    {
      "cell_type": "code",
      "metadata": {
        "id": "9yw-Keez0w06",
        "colab_type": "code",
        "colab": {}
      },
      "source": [
        "# utilizzare la funziona arange\n",
        "print(np.arange(1,10))\n",
        "\n",
        "print(\"\\n\")\n",
        "\n",
        "# creare una matrice di zero con la diagonale di uno\n",
        "print(np.eye(4))\n",
        "\n",
        "print(\"\\n\")\n",
        "\n",
        "# creare un array per ripetizione\n",
        "print(np.array([1,3,5] * 3))\n",
        "\n",
        "print(\"\\n\")\n",
        "\n",
        "# creare un array utilizzando repeat\n",
        "print(np.repeat([1,2,3], 3))"
      ],
      "execution_count": 0,
      "outputs": []
    },
    {
      "cell_type": "markdown",
      "metadata": {
        "id": "T_7k24W7VWFl",
        "colab_type": "text"
      },
      "source": [
        "### Combinare gli array"
      ]
    },
    {
      "cell_type": "code",
      "metadata": {
        "id": "jIucSzy_UoJy",
        "colab_type": "code",
        "colab": {}
      },
      "source": [
        "a = np.array([1,2,3])\n",
        "# combinare gli array in verticale\n",
        "av = np.vstack([a, a*2])\n",
        "print(av)\n",
        "\n",
        "print(\"\\n\")\n",
        "\n",
        "# combinare gli array in orizzontale\n",
        "ah = np.hstack([a, a*2])\n",
        "print(ah)"
      ],
      "execution_count": 0,
      "outputs": []
    },
    {
      "cell_type": "markdown",
      "metadata": {
        "colab_type": "text",
        "id": "daJxCmJJogU1"
      },
      "source": [
        "## Operazioni sugli array\n",
        "<br>\n",
        "\n",
        "<img src='http://scipy-lectures.org/_images/numpy_broadcasting.png'>\n",
        "<br>\n",
        "\n",
        "[Image Credit](http://scipy-lectures.org/intro/numpy/operations.html)"
      ]
    },
    {
      "cell_type": "code",
      "metadata": {
        "id": "40wnrgm4WM0Z",
        "colab_type": "code",
        "colab": {}
      },
      "source": [
        "x=np.array([1, 2, 3])\n",
        "y=np.array([4, 5, 6])\n",
        "\n",
        "print(x + y) # addizione     [1 2 3] + [4 5 6] = [5  7  9]\n",
        "print(x - y) # sottrazione   [1 2 3] - [4 5 6] = [-3 -3 -3]\n",
        "\n",
        "print(x * y) # moltiplicazione elemento per elemento  [1 2 3] * [4 5 6] = [4  10  18]\n",
        "print(x / y) # divisione elemento per elemento        [1 2 3] / [4 5 6] = [0.25  0.4  0.5]\n",
        "\n",
        "print(x**2) # potenza  [1 2 3] ^2 =  [1 4 9]\n",
        "\n",
        "print(x.dot(y)) # prodotto cartesiano  1*4 + 2*5 + 3*6"
      ],
      "execution_count": 0,
      "outputs": []
    },
    {
      "cell_type": "code",
      "metadata": {
        "id": "F_omHwyosr0x",
        "colab_type": "code",
        "colab": {}
      },
      "source": [
        "# numpy ha diverse funzioni per svolgere operazioni matematiche sui vettori, di seguito alcune tra le più comuni\n",
        "\n",
        "x.sum() # somma gli elementi del vettore 1 + 2 + 3 = 6\n",
        "x.max() # restituisce l'elemento dell'array con valore massimo 3 (analogo per il minimo)\n",
        "x.mean() # media dei valori nel vettore 2\n",
        "x.std() # deviazione strandard 0.8164\n",
        "\n",
        "# argmax e argmin restituiscono l'indice del valore massimo e minimo nel vettore\n",
        "x.argmax() # 2\n",
        "x.argmin() # 0"
      ],
      "execution_count": 0,
      "outputs": []
    },
    {
      "cell_type": "markdown",
      "metadata": {
        "id": "JFKXV72VqEbY",
        "colab_type": "text"
      },
      "source": [
        "### Trasporre un vettore\n",
        "I vettori che abbiamo creato sono 1D, per trasporre bisogna avere almeno 2D"
      ]
    },
    {
      "cell_type": "code",
      "metadata": {
        "id": "HAub9gZkpl72",
        "colab_type": "code",
        "colab": {}
      },
      "source": [
        "# dimensioni originali\n",
        "print(y,\"\\n\")\n",
        "print(\"dimensioni vettore originale: \", y.shape , \"\\n\")\n",
        "\n",
        "# aggiungere una dimensione\n",
        "y.resize([1,3])\n",
        "print(\"nuove dimensioni vettore: \", y.shape, \"\\n\")\n",
        "# trasporre\n",
        "print(\"vettore trasposto: \", \"\\n\", y.T)"
      ],
      "execution_count": 0,
      "outputs": []
    },
    {
      "cell_type": "markdown",
      "metadata": {
        "id": "Ro16e_GHx5Bi",
        "colab_type": "text"
      },
      "source": [
        "## Navigare un array\n",
        "Quando di và a navigare un array ricordare sempre che gli indicii partono da zero e l'ultimo indice non farà parte della selezione, come spiegato nell'immagine.\n",
        "\n",
        "<br>\n",
        "<img src='http://s8.picofile.com/file/8353147750/numpy_math2.png' width=300, height=200>\n",
        "<br>\n",
        "\n",
        "[Image Credit](https://www.stechies.com/numpy-indexing-slicing/)"
      ]
    },
    {
      "cell_type": "code",
      "metadata": {
        "_uuid": "82ca4b616a46de3280b5a50df4c0114298d07aea",
        "id": "Sqz9Ev3Our1w",
        "colab_type": "code",
        "colab": {}
      },
      "source": [
        "myarray = np.arange(12)**2\n",
        "myarray"
      ],
      "execution_count": 0,
      "outputs": []
    },
    {
      "cell_type": "code",
      "metadata": {
        "id": "OqheT7ALscDo",
        "colab_type": "code",
        "colab": {}
      },
      "source": [
        "# usare un indice per trovare un valore\n",
        "myarray[4] # 16\n",
        "myarray[-1] #121"
      ],
      "execution_count": 0,
      "outputs": []
    },
    {
      "cell_type": "code",
      "metadata": {
        "id": "0MRiTtUD3-Jk",
        "colab_type": "code",
        "colab": {}
      },
      "source": [
        "# usare un indice di start e uno di stop\n",
        "myarray[5:8]"
      ],
      "execution_count": 0,
      "outputs": []
    },
    {
      "cell_type": "code",
      "metadata": {
        "id": "eVAgK3Da4D9B",
        "colab_type": "code",
        "colab": {}
      },
      "source": [
        "# selezionare da un elemento fino alla fine dell'array\n",
        "myarray[4:]\n",
        "\n",
        "# selezionare fino a un elemento dell'array\n",
        "myarray[:7]"
      ],
      "execution_count": 0,
      "outputs": []
    },
    {
      "cell_type": "code",
      "metadata": {
        "id": "YfLFfC1i4Vvp",
        "colab_type": "code",
        "colab": {}
      },
      "source": [
        "# utilizzare gli step\n",
        "## scorrere l'array a passo 2\n",
        "myarray[::2]"
      ],
      "execution_count": 0,
      "outputs": []
    },
    {
      "cell_type": "code",
      "metadata": {
        "id": "amlc6KtU4h0q",
        "colab_type": "code",
        "colab": {}
      },
      "source": [
        "# array 2D\n",
        "myarray.resize((2,6))\n",
        "print(myarray)\n",
        "\n",
        "print(\"\\n\")\n",
        "\n",
        "myarray[:,2:]"
      ],
      "execution_count": 0,
      "outputs": []
    },
    {
      "cell_type": "code",
      "metadata": {
        "id": "uiFb5MUV6Ase",
        "colab_type": "code",
        "colab": {}
      },
      "source": [
        "# selezionare solo gli elementi maggiori (o minori) di un certo valore\n",
        "myarray[(myarray > 50) & (myarray < 100)]"
      ],
      "execution_count": 0,
      "outputs": []
    },
    {
      "cell_type": "markdown",
      "metadata": {
        "id": "HcUX5iKDwpOU",
        "colab_type": "text"
      },
      "source": [
        "## Copiare i dati\n",
        "\n",
        "Ci sono diversi modi di copiare i dati da un array, bisogna fare attenzione a quale si usa perchè potrebbe portare a conseguenze indesiderate."
      ]
    },
    {
      "cell_type": "code",
      "metadata": {
        "id": "9TVgIEtqw2fR",
        "colab_type": "code",
        "colab": {}
      },
      "source": [
        "myarray = np.arange(1,10)\n",
        "myarray.resize((3,3))\n",
        "myarray"
      ],
      "execution_count": 0,
      "outputs": []
    },
    {
      "cell_type": "markdown",
      "metadata": {
        "id": "FKnfTcU8xDPT",
        "colab_type": "text"
      },
      "source": [
        "Creaiamo un nuovo array come sottoinsieme di myarray."
      ]
    },
    {
      "cell_type": "code",
      "metadata": {
        "id": "k_6OOoY1xIfw",
        "colab_type": "code",
        "colab": {}
      },
      "source": [
        "myarray2 = myarray[:2,:2]\n",
        "myarray2"
      ],
      "execution_count": 0,
      "outputs": []
    },
    {
      "cell_type": "markdown",
      "metadata": {
        "id": "R0g6EXp4xfdL",
        "colab_type": "text"
      },
      "source": [
        "Ora sostituiamo i valori in myarray2 con zero."
      ]
    },
    {
      "cell_type": "code",
      "metadata": {
        "id": "h_O_DE1oxllQ",
        "colab_type": "code",
        "colab": {}
      },
      "source": [
        "myarray2[:] = 0\n",
        "myarray2"
      ],
      "execution_count": 0,
      "outputs": []
    },
    {
      "cell_type": "markdown",
      "metadata": {
        "id": "DrRQ0nSpxsCL",
        "colab_type": "text"
      },
      "source": [
        "Vediamo cosa succede sul vettore originale."
      ]
    },
    {
      "cell_type": "code",
      "metadata": {
        "id": "DhTOY8hbxwhw",
        "colab_type": "code",
        "colab": {}
      },
      "source": [
        "myarray"
      ],
      "execution_count": 0,
      "outputs": []
    },
    {
      "cell_type": "markdown",
      "metadata": {
        "id": "6-seCY2UxzMV",
        "colab_type": "text"
      },
      "source": [
        "Questo succede perchè myarray2 è subset di myarray, per copiare le informazioni bisogna usare *copy* che crea un vettore nuovo indipendente dall'originale."
      ]
    },
    {
      "cell_type": "code",
      "metadata": {
        "id": "wLSNASnpyINQ",
        "colab_type": "code",
        "colab": {}
      },
      "source": [
        "myarray = np.arange(1,10)\n",
        "myarray.resize((3,3))\n",
        "\n",
        "myarray3 = myarray[:2,:2].copy()\n",
        "print(myarray3)\n",
        "\n",
        "myarray3[:]=0"
      ],
      "execution_count": 0,
      "outputs": []
    },
    {
      "cell_type": "markdown",
      "metadata": {
        "id": "uAXm116IyoDv",
        "colab_type": "text"
      },
      "source": [
        "Vediamo cosa è successo all'originale e alla copia."
      ]
    },
    {
      "cell_type": "code",
      "metadata": {
        "id": "0h-eK8kpysXh",
        "colab_type": "code",
        "colab": {}
      },
      "source": [
        "print(\"vettore originale: \", \"\\n\", myarray, \"\\n\")\n",
        "print(\"vettore copia: \", \"\\n\", myarray3, \"\\n\")"
      ],
      "execution_count": 0,
      "outputs": []
    },
    {
      "cell_type": "markdown",
      "metadata": {
        "colab_type": "text",
        "id": "sySx0_7jzMlp"
      },
      "source": [
        "## Diversi tipi di iteratori\n",
        "\n",
        "In questo paragrafo vedremo diversi modi di *scorrere* gli elementi del vettore mediante l'utilizzo del ***ciclo for***.\n",
        "\n",
        "Per prima cosa creare un vettore, il vettore di test sarà 4x3 di interi tra 0 e 9.\n"
      ]
    },
    {
      "cell_type": "code",
      "metadata": {
        "id": "3F0tROVqzv4w",
        "colab_type": "code",
        "colab": {}
      },
      "source": [
        "test = np.random.randint(0, 10, (4,3))\n",
        "test"
      ],
      "execution_count": 0,
      "outputs": []
    },
    {
      "cell_type": "code",
      "metadata": {
        "id": "3fWONu6R0q5j",
        "colab_type": "code",
        "colab": {}
      },
      "source": [
        "# iterare per ogni riga\n",
        "for row in test:\n",
        "  print(row)\n",
        "\n",
        "print(\"\\n\")\n",
        "\n",
        "# iterare per indice\n",
        "for i in range(len(test)):\n",
        "  print(test[i])\n",
        "\n",
        "print(\"\\n\")\n",
        "\n",
        "# iterare con doppio indice usando enumerate\n",
        "for i, row in enumerate(test):\n",
        "  print(\"row \", i, \" is \", row)"
      ],
      "execution_count": 0,
      "outputs": []
    },
    {
      "cell_type": "code",
      "metadata": {
        "id": "YITu72WL2rJV",
        "colab_type": "code",
        "colab": {}
      },
      "source": [
        "# iterare su due array mediante zip\n",
        "test2 = test*2\n",
        "\n",
        "for i, j in zip(test, test2):\n",
        "    print(i,'+',j,'=',i+j)"
      ],
      "execution_count": 0,
      "outputs": []
    },
    {
      "cell_type": "code",
      "metadata": {
        "id": "Ip9iHueU3ER9",
        "colab_type": "code",
        "colab": {}
      },
      "source": [
        "# controllare i progressi del codice mediante tqdm\n",
        "from tqdm import tqdm\n",
        "\n",
        "for i in tqdm(range(len(test))):\n",
        "  for j in range(len(test[i])):\n",
        "    print (\"riga: \", i, \" colonna: \", j, \" valore: \", test[i,j])"
      ],
      "execution_count": 0,
      "outputs": []
    }
  ]
}