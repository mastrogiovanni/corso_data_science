{
  "nbformat": 4,
  "nbformat_minor": 0,
  "metadata": {
    "colab": {
      "name": "02_pandas.ipynb",
      "provenance": [],
      "collapsed_sections": [],
      "authorship_tag": "ABX9TyPV1VeTADzuUq0uLQuB1z6c",
      "include_colab_link": true
    },
    "kernelspec": {
      "name": "python3",
      "display_name": "Python 3"
    }
  },
  "cells": [
    {
      "cell_type": "markdown",
      "metadata": {
        "id": "view-in-github",
        "colab_type": "text"
      },
      "source": [
        "<a href=\"https://colab.research.google.com/github/nickprock/corso_data_science/blob/devs/intro_librerie_python/02_pandas.ipynb\" target=\"_parent\"><img src=\"https://colab.research.google.com/assets/colab-badge.svg\" alt=\"Open In Colab\"/></a>"
      ]
    },
    {
      "cell_type": "markdown",
      "metadata": {
        "id": "DpjHoRtRnqzT",
        "colab_type": "text"
      },
      "source": [
        "# Pandas\n",
        "\n",
        "[Pandas](https://pandas.pydata.org/index.html) (*Python Data Analysis Library*) è una libreria open source basata su numpy che fornisce strutture dati semplici e pronte all'utilizzo oltre che funzioni di analisi per queste ultime.\n",
        "\n",
        "<br>\n",
        "\n",
        "![logoPandas](https://upload.wikimedia.org/wikipedia/commons/e/ed/Pandas_logo.svg)\n",
        "\n",
        "<br>\n",
        "\n",
        "[**Image Credit**](https://en.wikipedia.org/wiki/File:Pandas_logo.svg)\n",
        "\n",
        "<br>\n",
        "\n",
        "Per approfondire consultare il [cheatsheet](https://www.kdnuggets.com/2017/01/pandas-cheat-sheet.html) ufficiale.\n",
        "\n",
        "Pandas ha due strutture dati fondamentali:\n",
        "* *Series*: array indicizzati\n",
        "* *DataFrame*: stutture dati molto simili a tabelle dove ogni colonna è una Series\n",
        "\n",
        "<br>\n",
        "<img src='https://www.kdnuggets.com/wp-content/uploads/pandas-02.png'>\n",
        "\n",
        "<br>\n",
        "\n",
        "[Image Credit](https://www.kdnuggets.com/2017/01/pandas-cheat-sheet.html)\n",
        "\n",
        "<br>\n",
        "\n",
        "## Creare un DataFrame da più Series"
      ]
    },
    {
      "cell_type": "code",
      "metadata": {
        "id": "IIVDxtBvpHhH",
        "colab_type": "code",
        "colab": {}
      },
      "source": [
        "import pandas as pd\n",
        "\n",
        "purchase_1 = pd.Series({'Name': 'Chris',\n",
        "                        'Item Purchased': 'Dog Food',\n",
        "                        'Cost': 22.50})\n",
        "purchase_2 = pd.Series({'Name': 'Kevyn',\n",
        "                        'Item Purchased': 'Kitty Litter',\n",
        "                        'Cost': 2.50})\n",
        "purchase_3 = pd.Series({'Name': 'Vinod',\n",
        "                        'Item Purchased': 'Bird Seed',\n",
        "                        'Cost': 5.00})\n",
        "df = pd.DataFrame([purchase_1, purchase_2, purchase_3], index=['Store 1', 'Store 1', 'Store 2'])\n",
        "df.head() # restituisce le prime 5 righe del DataFrame, analogamente df.tail() restituisce le ultime"
      ],
      "execution_count": 0,
      "outputs": []
    },
    {
      "cell_type": "markdown",
      "metadata": {
        "id": "-TIlEtMb3Gxu",
        "colab_type": "text"
      },
      "source": [
        "## Selezionare un sottoinsieme di dati"
      ]
    },
    {
      "cell_type": "code",
      "metadata": {
        "id": "EYKiLeyswCVL",
        "colab_type": "code",
        "colab": {}
      },
      "source": [
        "# Selezionare una colonna\n",
        "df['Name'] # restituisce una Series\n",
        "\n",
        "df[['Name']] # restituisce un DataFrame"
      ],
      "execution_count": 0,
      "outputs": []
    },
    {
      "cell_type": "code",
      "metadata": {
        "id": "ZRjTML_f3T2E",
        "colab_type": "code",
        "colab": {}
      },
      "source": [
        "# Selezionare una riga\n",
        "\n",
        "df[:1]"
      ],
      "execution_count": 0,
      "outputs": []
    },
    {
      "cell_type": "code",
      "metadata": {
        "id": "F_oav1u83aHh",
        "colab_type": "code",
        "colab": {}
      },
      "source": [
        "# selezione per posizione\n",
        "df.iloc[1,1]"
      ],
      "execution_count": 0,
      "outputs": []
    },
    {
      "cell_type": "code",
      "metadata": {
        "id": "e-XVrfiK5syi",
        "colab_type": "code",
        "colab": {}
      },
      "source": [
        "# selezione per etichetta\n",
        "df.loc[\"Store 1\",\"Name\"]"
      ],
      "execution_count": 0,
      "outputs": []
    },
    {
      "cell_type": "code",
      "metadata": {
        "id": "NVAnjb-d6G2x",
        "colab_type": "code",
        "colab": {}
      },
      "source": [
        "# selezione per condizione\n",
        "df[df.Cost>3] # analogamente df[df['Cost']>3]"
      ],
      "execution_count": 0,
      "outputs": []
    },
    {
      "cell_type": "markdown",
      "metadata": {
        "id": "If9srDMm7K6a",
        "colab_type": "text"
      },
      "source": [
        "## Operazioni sulle colonne\n",
        "### Creare una copia e eliminare elementi"
      ]
    },
    {
      "cell_type": "code",
      "metadata": {
        "id": "pegZM-9T64LQ",
        "colab_type": "code",
        "colab": {}
      },
      "source": [
        "df1 = df.copy()"
      ],
      "execution_count": 0,
      "outputs": []
    },
    {
      "cell_type": "code",
      "metadata": {
        "id": "F7wIHF187VGh",
        "colab_type": "code",
        "colab": {}
      },
      "source": [
        "# eliminare una colonna\n",
        "df1.drop(\"Name\", axis=1, inplace=True) # inplace=True vuol dire che le modifiche saranno memorizzate sull'oggetto, se si vuole eliminare una riga axis=0\n",
        "# df2 = df1.drop(\"Name\", axis=1, inplace=False) #se non si vuole modificare df1\n",
        "df1"
      ],
      "execution_count": 0,
      "outputs": []
    },
    {
      "cell_type": "code",
      "metadata": {
        "id": "44K9bA0p73gI",
        "colab_type": "code",
        "colab": {}
      },
      "source": [
        "# creare una nuova colonna\n",
        "df[\"NewCol\"] = \"CIAO\"\n",
        "print(df)\n",
        "df.drop(\"NewCol\", axis=1, inplace=True)\n",
        "print(\"\\n\")\n",
        "print(df)"
      ],
      "execution_count": 0,
      "outputs": []
    },
    {
      "cell_type": "markdown",
      "metadata": {
        "id": "YvT887yh9Fp1",
        "colab_type": "text"
      },
      "source": [
        "### Ordinamento"
      ]
    },
    {
      "cell_type": "code",
      "metadata": {
        "id": "7wMSDOWX8LbR",
        "colab_type": "code",
        "colab": {}
      },
      "source": [
        "# secondo una colonna\n",
        "df.sort_values(by=\"Cost\")"
      ],
      "execution_count": 0,
      "outputs": []
    },
    {
      "cell_type": "code",
      "metadata": {
        "id": "aMMwMXxt9QSB",
        "colab_type": "code",
        "colab": {}
      },
      "source": [
        "# secondo un indice\n",
        "df.sort_index(ascending=False)"
      ],
      "execution_count": 0,
      "outputs": []
    },
    {
      "cell_type": "markdown",
      "metadata": {
        "id": "rsH6GSfU-YMM",
        "colab_type": "text"
      },
      "source": [
        "### Concatenazione\n",
        "\n",
        "Per maggiori informazioni e approfondimenti consultare la [pagina ufficiale](https://pandas.pydata.org/pandas-docs/stable/user_guide/merging.html).\n",
        "\n",
        "<br>\n",
        "<img src='https://pandas.pydata.org/pandas-docs/stable/_images/merging_concat_axis1_join_axes.png'>\n",
        "\n",
        "<br>\n",
        "\n",
        "[Image Credit](https://pandas.pydata.org/pandas-docs/stable/user_guide/merging.html)\n",
        "\n",
        "<br>"
      ]
    },
    {
      "cell_type": "code",
      "metadata": {
        "id": "t-LdFbSK9WvS",
        "colab_type": "code",
        "colab": {}
      },
      "source": [
        "# concatenare le righe\n",
        "\n",
        "df3 = df.append(df1)\n",
        "# df3 = pd.concat([df,df1], axis=0)\n",
        "df3"
      ],
      "execution_count": 0,
      "outputs": []
    },
    {
      "cell_type": "code",
      "metadata": {
        "id": "z_TLT41O-jcx",
        "colab_type": "code",
        "colab": {}
      },
      "source": [
        "# concatenare le colonne\n",
        "\n",
        "df3 = pd.concat([df,df1], axis=1)\n",
        "df3"
      ],
      "execution_count": 0,
      "outputs": []
    },
    {
      "cell_type": "code",
      "metadata": {
        "colab_type": "code",
        "id": "FgRLpFzyqVVG",
        "colab": {}
      },
      "source": [
        "# unire i DataFrame \"stile\" SQL\n",
        "\n",
        "left = pd.DataFrame({'key': ['K0', 'K1', 'K2', 'K3'],'A': ['A0', 'A1', 'A2', 'A3'],'B': ['B0', 'B1', 'B2', 'B3']})\n",
        "right = pd.DataFrame({'key': ['K0', 'K1', 'K2', 'K3'], 'C': ['C0', 'C1', 'C2', 'C3'], 'D': ['D0', 'D1', 'D2', 'D3']})\n",
        "\n",
        "result = pd.merge(left, right, on='key')\n",
        "# per unire in base a più chiavi và passata una lista al parametro on"
      ],
      "execution_count": 0,
      "outputs": []
    },
    {
      "cell_type": "markdown",
      "metadata": {
        "id": "Fv9n3-VrqGzr",
        "colab_type": "text"
      },
      "source": [
        "![merge](https://pandas.pydata.org/pandas-docs/stable/_images/merging_merge_on_key.png)\n",
        "<br>\n",
        "[Image Credit](https://pandas.pydata.org/pandas-docs/stable/user_guide/merging.html)"
      ]
    },
    {
      "cell_type": "markdown",
      "metadata": {
        "id": "sCQCuYqNqzrZ",
        "colab_type": "text"
      },
      "source": [
        "### Importare ed Esportare DataFrame\n",
        "\n",
        "![Import](https://external-content.duckduckgo.com/iu/?u=https%3A%2F%2Fappdividend.com%2Fwp-content%2Fuploads%2F2019%2F01%2FPython-Pandas-DataFrame-read_csv-tutorial-with-example-from-scratch.png&f=1&nofb=1)\n",
        "\n",
        "<br>\n",
        "\n",
        "[Image Credits](https://appdividend.com/wp-content/uploads/2019/01/Python-Pandas-DataFrame-read_csv-tutorial-with-example-from-scratch.png)\n",
        "\n",
        "<br>\n",
        "\n",
        "Come Data Scientist, troverai spesso che i dati di cui hai bisogno non si trovano in un singolo file. Può essere distribuito su un numero di file di testo, fogli di calcolo o database. Pandas mette a disposizione dei metodi per leggere e scrivere file.\n",
        "\n",
        "I metodi di lettura sono solitamente preceduti dal prefisso *read_* ad esempio:\n",
        "* read_csv\n",
        "* read_json\n",
        "* read_excel\n",
        "* read_html\n",
        "\n",
        "I metodi per scrivere dei nuovi file sono preceduti dal prefisso *to_* ad esempio:\n",
        "* to_csv\n",
        "* to_json\n",
        "* to_excel\n",
        "\n",
        "e vanno richiamati come metodi dell'oggetto DataFrame.\n",
        "\n",
        "```\n",
        "data = pd.read_csv('myinput.csv')\n",
        "data.to_json(\"myoutput.json\", orient = \"records\")\n",
        "```\n",
        "\n",
        "In questo notebook non ci occuperemo dei metodi di Import/Export che potete vedere sulla documentazione ufficiale di Pandas.\n",
        "\n",
        "### Trovare e sostituire valori nulli\n",
        "\n",
        "\n"
      ]
    },
    {
      "cell_type": "code",
      "metadata": {
        "id": "bd3KFLVm3LEu",
        "colab_type": "code",
        "colab": {}
      },
      "source": [
        "df_null = df.copy()"
      ],
      "execution_count": 0,
      "outputs": []
    },
    {
      "cell_type": "markdown",
      "metadata": {
        "id": "Yer-YRlP4iuD",
        "colab_type": "text"
      },
      "source": [
        "1. Inseriamo un valore nullo, mediante *np.nan*\n",
        "2. Troviamo il valore nullo\n",
        "3. Sostituiamo con la media *(analogamente ai vettori anche Series e DataFrame hanno metodi di calcolo)*\n",
        "\n",
        "**N.B. Ci sono diversi modi di imputare i valori mancanti, questo tema dovrebbe essere trattato nel modulo sul preprocessing dei dati** "
      ]
    },
    {
      "cell_type": "code",
      "metadata": {
        "id": "144v7Sq24UKu",
        "colab_type": "code",
        "colab": {}
      },
      "source": [
        "import numpy as np\n",
        "\n",
        "# inseriamo un valore mancante\n",
        "df_null.loc[:1,[\"Cost\"]] = np.nan\n",
        "\n",
        "print(df_null)\n",
        "print(\"\\n\")\n",
        "\n",
        "# troviamo la posizione del valore nullo\n",
        "print(df_null[\"Cost\"].isna())\n",
        "print(\"\\n\")\n",
        "\n",
        "# sostituiamo con la media della colonna\n",
        "df_null.fillna(df_null.Cost.mean())"
      ],
      "execution_count": 0,
      "outputs": []
    },
    {
      "cell_type": "markdown",
      "metadata": {
        "id": "i7ZM2qKB7A68",
        "colab_type": "text"
      },
      "source": [
        "### Estrarre informazioni dal DataFrame\n",
        "\n",
        "Ci sono diverse operazioni che permettono di estrarre informazioni e statistiche riassuntive dal nostro DataFrame. Sta anche alle abilità e fantasia del Data Scientist combinarle per estrarre informazioni interessanti dai dati."
      ]
    },
    {
      "cell_type": "code",
      "metadata": {
        "id": "mr6dqtSa5kL4",
        "colab_type": "code",
        "colab": {}
      },
      "source": [
        "# numero di righe e colonne\n",
        "\n",
        "print(\"numero di righe: \", df.shape[0],\" e colonne: \", df.shape[1])\n",
        "print(\"\\n\")\n",
        "\n",
        "# restituire l'indice di riga\n",
        "print(df.index)\n",
        "print(\"\\n\")\n",
        "\n",
        "# restituire una lista con i nomi delle colonne\n",
        "print(df.columns)\n",
        "print(\"\\n\")\n",
        "\n",
        "# numero di valori non nulli\n",
        "print(\"Valori non nulli\")\n",
        "print(df.count())\n",
        "print(\"\\n\")\n",
        "\n",
        "# informazioni sul DataFrame\n",
        "print(df.info())\n",
        "print(\"\\n\")\n",
        "\n",
        "# statistiche riassuntive sulle colonne numeriche del DataFrame\n",
        "print(\"Summary\", \"\\n\",df.describe())"
      ],
      "execution_count": 0,
      "outputs": []
    },
    {
      "cell_type": "markdown",
      "metadata": {
        "id": "Vem2EB5OBk2l",
        "colab_type": "text"
      },
      "source": [
        "### Variabili qualitative ordinali. Da stringhe a fattori.\n",
        "\n",
        "Prendiamo il grado di soddisfazione di un cliente per un dato servizio, può essere indicato con un numero ma anche con un'etichetta del tipo \"buono\", questi valori possono essere ordinati nonostante siano stringhe, vediamo un veloce esempio.\n",
        "\n",
        "Creiamo un dataset senza il nome colonna che assegneremo successivamente, se il nome colonna non è indicato Pandas nomina con un indice da 0 a numero colonne meno uno."
      ]
    },
    {
      "cell_type": "code",
      "metadata": {
        "id": "1iwYhOEHCBz3",
        "colab_type": "code",
        "colab": {}
      },
      "source": [
        "df = pd.DataFrame(['A+', 'A', 'A-', 'B+', 'B', 'B-', 'C+', 'C', 'C-', 'D+', 'D'],\n",
        "                  index=['excellent', 'excellent', 'excellent', 'good', 'good', 'good', 'ok', 'ok', 'ok', 'poor', 'poor'])\n",
        "df.rename(columns={0: 'Grades'}, inplace=True)\n",
        "df"
      ],
      "execution_count": 0,
      "outputs": []
    },
    {
      "cell_type": "markdown",
      "metadata": {
        "id": "6n_x8tdjChmh",
        "colab_type": "text"
      },
      "source": [
        "Convertire la variabile appena creata da stringa a categoria e dare un orinamento."
      ]
    },
    {
      "cell_type": "code",
      "metadata": {
        "id": "25iu13i0CgMZ",
        "colab_type": "code",
        "colab": {}
      },
      "source": [
        "df['Grades'].astype('category').head()"
      ],
      "execution_count": 0,
      "outputs": []
    },
    {
      "cell_type": "code",
      "metadata": {
        "id": "pshRVLjcCwX_",
        "colab_type": "code",
        "colab": {}
      },
      "source": [
        "from pandas.api.types import CategoricalDtype\n",
        "grades = df.Grades.astype(CategoricalDtype(categories=['D', 'D+', 'C-', 'C', 'C+', 'B-', 'B', 'B+', 'A-', 'A', 'A+'], ordered=True))\n",
        "\n",
        "# selzioniamo i livelli maggiori di C\n",
        "\n",
        "grades > \"C\""
      ],
      "execution_count": 0,
      "outputs": []
    },
    {
      "cell_type": "markdown",
      "metadata": {
        "id": "IDzKB-dOgKX9",
        "colab_type": "text"
      },
      "source": [
        "### Lavorare con le date\n",
        "\n",
        "#### Tipi di variabile temporale"
      ]
    },
    {
      "cell_type": "code",
      "metadata": {
        "id": "kWOa0tnBE3_3",
        "colab_type": "code",
        "colab": {}
      },
      "source": [
        "# Timestamp\n",
        "print(\"Timestamp: \",pd.Timestamp('9/1/2016 10:05AM'))\n",
        "\n",
        "# Period\n",
        "# pd.Period('1/2016')\n",
        "pd.Period('3/5/2016')"
      ],
      "execution_count": 0,
      "outputs": []
    },
    {
      "cell_type": "markdown",
      "metadata": {
        "id": "QMyuyo8bhLc3",
        "colab_type": "text"
      },
      "source": [
        "#### Utilizzare le dati o i periodi come indice di un DataFrame"
      ]
    },
    {
      "cell_type": "code",
      "metadata": {
        "id": "f5vZQtGegw9K",
        "colab_type": "code",
        "colab": {}
      },
      "source": [
        "t1 = pd.Series(list('abc'), [pd.Timestamp('2016-09-01'), pd.Timestamp('2016-09-02'), pd.Timestamp('2016-09-03')])\n",
        "t1"
      ],
      "execution_count": 0,
      "outputs": []
    },
    {
      "cell_type": "code",
      "metadata": {
        "id": "Cwd9VQafhXlG",
        "colab_type": "code",
        "colab": {}
      },
      "source": [
        "t2 = pd.Series(list('def'), [pd.Period('2016-09'), pd.Period('2016-10'), pd.Period('2016-11')])\n",
        "t2"
      ],
      "execution_count": 0,
      "outputs": []
    },
    {
      "cell_type": "code",
      "metadata": {
        "id": "TajsTqBbhbPP",
        "colab_type": "code",
        "colab": {}
      },
      "source": [
        "# utilizzare un generatore di periodi per costruire un intervallo di date\n",
        "\n",
        "t3 = pd.DataFrame(np.random.rand(9), index=pd.date_range('10-01-2016', periods=9, freq='2W-SUN'), columns=[\"A\"])\n",
        "t3"
      ],
      "execution_count": 0,
      "outputs": []
    },
    {
      "cell_type": "markdown",
      "metadata": {
        "id": "k_o3mOogkFYM",
        "colab_type": "text"
      },
      "source": [
        "#### Convertire il formato della data\n",
        "\n",
        "Può capitare di avere dati sporchi o provenienti da fonti eterogenee che utilizzano diversi formati (e stringhe) per indicare una data, vediamo come uniformare."
      ]
    },
    {
      "cell_type": "code",
      "metadata": {
        "id": "7CD4b3lNhxeI",
        "colab_type": "code",
        "colab": {}
      },
      "source": [
        "d1 = ['2 June 2013', 'Aug 29, 2014', '2015-06-26', '7/12/16']\n",
        "ts3 = pd.DataFrame(np.random.randint(10, 100, (4,2)), index=d1, columns=list('ab'))\n",
        "ts3"
      ],
      "execution_count": 0,
      "outputs": []
    },
    {
      "cell_type": "code",
      "metadata": {
        "id": "4IOGc4dPoWQI",
        "colab_type": "code",
        "colab": {}
      },
      "source": [
        "ts3.index = pd.to_datetime(ts3.index)\n",
        "ts3"
      ],
      "execution_count": 0,
      "outputs": []
    },
    {
      "cell_type": "code",
      "metadata": {
        "id": "G9kHGflNogBW",
        "colab_type": "code",
        "colab": {}
      },
      "source": [
        "# altro esempio, non si capisce se è il 4 Luglio o il 7 Aprile\n",
        "\n",
        "pd.to_datetime('4.7.12', dayfirst=True)"
      ],
      "execution_count": 0,
      "outputs": []
    },
    {
      "cell_type": "markdown",
      "metadata": {
        "id": "SHpgPJ2LpPwG",
        "colab_type": "text"
      },
      "source": [
        "#### Operazioni sulle date\n",
        "\n",
        "Le operazioni sulle date restituiscono un oggetto Timedelta.\n",
        "Le operazioni tra Timestamp e Timedelta restituiscono un Timestamp."
      ]
    },
    {
      "cell_type": "code",
      "metadata": {
        "id": "FnGWGeXnokdN",
        "colab_type": "code",
        "colab": {}
      },
      "source": [
        "pd.Timestamp('9/3/2016')-pd.Timestamp('9/1/2016')"
      ],
      "execution_count": 0,
      "outputs": []
    },
    {
      "cell_type": "code",
      "metadata": {
        "id": "0c6cno8fpKv1",
        "colab_type": "code",
        "colab": {}
      },
      "source": [
        "pd.Timestamp('9/2/2016 8:10AM') + pd.Timedelta('12D 3H')"
      ],
      "execution_count": 0,
      "outputs": []
    },
    {
      "cell_type": "code",
      "metadata": {
        "id": "GxbyTVyNptae",
        "colab_type": "code",
        "colab": {}
      },
      "source": [
        "# trasformare un timedelta in float\n",
        "x = pd.Timestamp('9/3/2016')-pd.Timestamp('9/1/2016')\n",
        "xf = float(x.total_seconds()) # total seconds restituisce la data in secondi\n",
        "\n",
        "# conversione in giorni\n",
        "\n",
        "x_day = ((xf/60)/60)/24\n",
        "print(\"The delta is \",x_day, \" days\")"
      ],
      "execution_count": 0,
      "outputs": []
    }
  ]
}