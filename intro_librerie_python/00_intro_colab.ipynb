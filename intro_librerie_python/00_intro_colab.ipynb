{
  "nbformat": 4,
  "nbformat_minor": 0,
  "metadata": {
    "colab": {
      "name": "00_intro_colab.ipynb",
      "provenance": [],
      "collapsed_sections": [],
      "authorship_tag": "ABX9TyOYyEPfVQyDtygvUDwrrPve",
      "include_colab_link": true
    },
    "kernelspec": {
      "name": "python3",
      "display_name": "Python 3"
    }
  },
  "cells": [
    {
      "cell_type": "markdown",
      "metadata": {
        "id": "view-in-github",
        "colab_type": "text"
      },
      "source": [
        "<a href=\"https://colab.research.google.com/github/nickprock/corso_data_science/blob/devs/intro_librerie_python/00_intro_colab.ipynb\" target=\"_parent\"><img src=\"https://colab.research.google.com/assets/colab-badge.svg\" alt=\"Open In Colab\"/></a>"
      ]
    },
    {
      "cell_type": "markdown",
      "metadata": {
        "id": "0Zz-imQJO2Zw",
        "colab_type": "text"
      },
      "source": [
        "# Introduzione ai Notebook\n",
        "\n",
        "## Anaconda Python\n",
        "\n",
        "<p><img alt=\"Anaconda logo\" height=\"120px\" src=\"https://upload.wikimedia.org/wikipedia/en/thumb/c/cd/Anaconda_Logo.png/200px-Anaconda_Logo.png\" align=\"center\" hspace=\"10px\" vspace=\"0px\"></p>\n",
        "<br>\n",
        "\n",
        "[Anaconda](https://www.anaconda.com/) è una distribuzione **open source** dei linguaggi Python e R. Il suo obiettivo è semplificare la vita a chi si occupa di data science e calcolo scientifico occupandosi della gestione dei pacchetti. Anaconda è **cross platform** e contiene, tra le altre, le librerie che vedremo in questo corso:\n",
        "\n",
        "\n",
        "\n",
        "*   numpy\n",
        "*   pandas\n",
        "*   matplotlib\n",
        "*   scikit-learn\n",
        "\n",
        "## Jupyter Notebook\n",
        "\n",
        "<p><img alt=\"Jupyter logo\" height=\"120px\" src=\"https://upload.wikimedia.org/wikipedia/commons/thumb/3/38/Jupyter_logo.svg/250px-Jupyter_logo.svg.png\" align=\"center\" hspace=\"10px\" vspace=\"0px\"></p>\n",
        "<br>\n",
        "\n",
        "Anaconda fornisce anche [Jupyter Notebook](https://jupyter.org/), strumento molto diffuso per l'insegnamento, la prototipazione e la diffusione dei risultati nei progetti di data science.\n",
        "Questo strumento interattivo permette di creare e condividere script, testo e immagini formattato in [Markdown](https://it.wikipedia.org/wiki/Markdown).\n",
        "\n",
        "## Google Colab\n",
        "\n",
        "<p><img alt=\"Colaboratory logo\" height=\"120px\" src=\"/img/colab_favicon.ico\" align=\"center\" hspace=\"10px\" vspace=\"0px\"></p>\n",
        "<br>\n",
        "\n",
        "[Google Colab](https://colab.research.google.com/notebooks/intro.ipynb) è una piattaforma che ci permette di **eseguire codice direttamente sul Cloud** (ogni volta che apriamo un notebook viene creata una nuova macchina da Google). Per sfruttare le funzionalità di tale piattaforma, tutto ciò di cui abbiamo bisogno è un account Google.\n",
        "Colab è basato su Jupyter Notebook ma ha qualche differenza che vedremo in seguto."
      ]
    },
    {
      "cell_type": "markdown",
      "metadata": {
        "id": "DvIkhePYb6-C",
        "colab_type": "text"
      },
      "source": [
        "# Caricare una libreria\n",
        "\n",
        "## Caricare una libreria e assegnare un alias\n",
        "Carichiamo numpy e utilizziamo una funzione che restituisce 10 numeri casuali tra zero e uno."
      ]
    },
    {
      "cell_type": "code",
      "metadata": {
        "id": "eanVSNyQb_vS",
        "colab_type": "code",
        "colab": {}
      },
      "source": [
        "import numpy as np\n",
        "np.random.rand(10)"
      ],
      "execution_count": 0,
      "outputs": []
    },
    {
      "cell_type": "markdown",
      "metadata": {
        "id": "EMzQWSRncszK",
        "colab_type": "text"
      },
      "source": [
        "## Caricare un modulo da una libreria e assegnare un alias"
      ]
    },
    {
      "cell_type": "code",
      "metadata": {
        "id": "XolB81cccLsJ",
        "colab_type": "code",
        "colab": {}
      },
      "source": [
        "import matplotlib.pyplot as plt\n",
        "x = np.random.rand(10)\n",
        "y = np.random.rand(10)\n",
        "plt.plot(x,y, \"d\")\n",
        "plt.title(\"Grafico di test\")"
      ],
      "execution_count": 0,
      "outputs": []
    },
    {
      "cell_type": "markdown",
      "metadata": {
        "id": "J3LJgeH4c6Cv",
        "colab_type": "text"
      },
      "source": [
        "## Caricare una funzione\n",
        "In questo caso useremo MinMaxScaler che nella sua configurazione di default fa scaling dei vettori assegnati in un range [0,1]."
      ]
    },
    {
      "cell_type": "code",
      "metadata": {
        "id": "tM5IULc5dfwk",
        "colab_type": "code",
        "colab": {}
      },
      "source": [
        "from sklearn.preprocessing import MinMaxScaler\n",
        "scaler = MinMaxScaler()\n",
        "scaler.fit_transform(x.reshape(10,1))"
      ],
      "execution_count": 0,
      "outputs": []
    },
    {
      "cell_type": "markdown",
      "metadata": {
        "id": "xle9178-ZJ1I",
        "colab_type": "text"
      },
      "source": [
        "# Installare una libreria non presente in Colab\n",
        "\n",
        "Le librerie che utilizzeremo sono già presenti sull'istanza di default ma se avessimo bisogno di altro?\n",
        "\n",
        "Come in un'installazione classica di Python useremo il package manager **pip** ma con l'aggiunta di un carattere speciale **!**\n",
        "\n",
        "\n"
      ]
    },
    {
      "cell_type": "code",
      "metadata": {
        "id": "BrqeD0XOO0P_",
        "colab_type": "code",
        "colab": {}
      },
      "source": [
        "!pip install -U -q PyDrive"
      ],
      "execution_count": 0,
      "outputs": []
    },
    {
      "cell_type": "markdown",
      "metadata": {
        "id": "ruF9GDL2aB8j",
        "colab_type": "text"
      },
      "source": [
        "**Bisogna tenere a mente che ogni volta che apriamo il notebook viene creata la macchina virtuale sul cloud Google, quindi bisognerà ri-eseguire l'installazione.**\n",
        "\n",
        "In questo caso abbiamo installato *PyDrive*, una libreria che ci consente di caricare i nostri file da Google Drive."
      ]
    },
    {
      "cell_type": "markdown",
      "metadata": {
        "id": "LX1_yeSxf91-",
        "colab_type": "text"
      },
      "source": [
        "# Caricare un file da Google Drive\n",
        "\n",
        "Il codice che vedremo in questa sezione è uno standard, potete riutilizzarlo così com'è."
      ]
    },
    {
      "cell_type": "code",
      "metadata": {
        "id": "-GPNs03QfmxD",
        "colab_type": "code",
        "colab": {}
      },
      "source": [
        "from pydrive.auth import GoogleAuth\n",
        "from pydrive.drive import GoogleDrive\n",
        "from google.colab import auth\n",
        "from oauth2client.client import GoogleCredentials\n",
        "\n",
        "# Authenticate and create the PyDrive client.\n",
        "auth.authenticate_user()\n",
        "gauth = GoogleAuth()\n",
        "gauth.credentials = GoogleCredentials.get_application_default()\n",
        "drive = GoogleDrive(gauth)"
      ],
      "execution_count": 0,
      "outputs": []
    },
    {
      "cell_type": "code",
      "metadata": {
        "id": "6s6Z1rrugT3n",
        "colab_type": "code",
        "colab": {}
      },
      "source": [
        "link = 'INSERT LINK HERE'\n",
        "fluff, id = link.split('=')\n",
        "\n",
        "print (id)"
      ],
      "execution_count": 0,
      "outputs": []
    },
    {
      "cell_type": "code",
      "metadata": {
        "id": "9GBeLXm5gj6v",
        "colab_type": "code",
        "colab": {}
      },
      "source": [
        "downloaded = drive.CreateFile({'id':id}) \n",
        "downloaded.GetContentFile('INSERT FILENAME HERE')"
      ],
      "execution_count": 0,
      "outputs": []
    },
    {
      "cell_type": "markdown",
      "metadata": {
        "id": "peWSg2y2g2B2",
        "colab_type": "text"
      },
      "source": [
        "A questo punto bisogna caricare il file a seconda del tipo (qui suppongo di avere un csv).\n",
        "\n",
        "```\n",
        "import pandas as pd\n",
        "file = pd.read_csv(\"filename.csv\")\n",
        "```\n",
        "\n"
      ]
    },
    {
      "cell_type": "markdown",
      "metadata": {
        "id": "QOAXHFR5fIx6",
        "colab_type": "text"
      },
      "source": [
        "# Tips & Tricks\n",
        "\n",
        "### Grafici inline\n",
        "\n",
        "In Jupyter per vedere il grafico dopo aver caricato la libreria o il modulo bisogna dare il comando *%matplotlib inline*\n",
        "\n",
        "```\n",
        "import matplotlib.pyplot as plt\n",
        "%matplotlib inline\n",
        "```\n",
        "### Leggere la documentazione\n",
        "\n",
        "Per leggere la documentazione delle funzioni, ad esempio *MinMaxScaler()*, bisogna piazzarsi all'interno delle parentesi e poi **shift+tab** per aprile la documentazione online.\n",
        "\n",
        "**Leggere la documentazione fa risparmiare molto tempo in fase di scrittura del codice.**\n",
        "\n",
        "### Creare un pdf da jupyter notebook\n",
        "\n",
        "Per creare un pdf dal jupyter notebook bisogna avere **LaTeX** installato sul pc.\n",
        "* Aprire un terminale (Anaconda prompt su Windows) \n",
        "* Posizionarsi nella cartella di destinazione del PDF\n",
        "* Digitare il comando\n",
        "```\n",
        "jupyter nbconvert --to pdf mynotebook.ipynb\n",
        "```\n",
        "* Troveremo nella cartella il file *mynotebook.pdf*\n",
        "\n",
        "### Abilitare GPU o TPU\n",
        "\n",
        "Per scegliere la GPU bisogna andare su:\n",
        "\n",
        "*   ***Edit*** -> ***Notebook Settings***\n",
        "*   oppure ***Runtime*** -> ***Change Runtime Type***\n",
        "\n",
        "**La GPU è stata settata?**"
      ]
    },
    {
      "cell_type": "code",
      "metadata": {
        "id": "gEnZtvzoiIfi",
        "colab_type": "code",
        "colab": {}
      },
      "source": [
        "import tensorflow as tf\n",
        "tf.test.gpu_device_name()"
      ],
      "execution_count": 0,
      "outputs": []
    },
    {
      "cell_type": "markdown",
      "metadata": {
        "id": "iuaT3nhuiq_n",
        "colab_type": "text"
      },
      "source": [
        "1.    **'/device:GPU:0'** indica che lavoriamo su una GPU\n",
        "2.    **'  '** indica che lavoriamo in CPU.\n",
        "\n",
        "### Restart Colab"
      ]
    },
    {
      "cell_type": "code",
      "metadata": {
        "id": "vibu1QNajT96",
        "colab_type": "code",
        "colab": {}
      },
      "source": [
        "!kill -9 -1"
      ],
      "execution_count": 0,
      "outputs": []
    }
  ]
}