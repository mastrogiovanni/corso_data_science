{
  "nbformat": 4,
  "nbformat_minor": 0,
  "metadata": {
    "kernelspec": {
      "display_name": "Python 3",
      "language": "python",
      "name": "python3"
    },
    "language_info": {
      "codemirror_mode": {
        "name": "ipython",
        "version": 3
      },
      "file_extension": ".py",
      "mimetype": "text/x-python",
      "name": "python",
      "nbconvert_exporter": "python",
      "pygments_lexer": "ipython3",
      "version": "3.8.5"
    },
    "colab": {
      "name": "threshold_moving.ipynb",
      "provenance": [],
      "collapsed_sections": [],
      "include_colab_link": true
    }
  },
  "cells": [
    {
      "cell_type": "markdown",
      "metadata": {
        "id": "view-in-github",
        "colab_type": "text"
      },
      "source": [
        "<a href=\"https://colab.research.google.com/github/nickprock/corso_data_science/blob/master/imbalanced_classification/threshold_moving.ipynb\" target=\"_parent\"><img src=\"https://colab.research.google.com/assets/colab-badge.svg\" alt=\"Open In Colab\"/></a>"
      ]
    },
    {
      "cell_type": "markdown",
      "metadata": {
        "id": "HysiEqtb8P_l"
      },
      "source": [
        "# Threshold-Moving\n",
        "\n",
        "<br>\n",
        "\n",
        "![into_img](https://www.researchgate.net/publication/344012378/figure/fig1/AS:930866989649922@1598947393917/Example-distributions-of-outputs-of-a-classifier-algorithm-for-a-2-class-problem-The.ppm)\n",
        "\n",
        "<br>\n",
        "\n",
        "[Image Credits](https://www.researchgate.net/figure/Example-distributions-of-outputs-of-a-classifier-algorithm-for-a-2-class-problem-The_fig1_344012378)\n",
        "\n",
        "<br>"
      ]
    },
    {
      "cell_type": "code",
      "metadata": {
        "id": "55OrAn5x8P_p"
      },
      "source": [
        "import numpy as np\n",
        "import pandas as pd\n",
        "import matplotlib.pyplot as plt\n",
        "%matplotlib inline"
      ],
      "execution_count": null,
      "outputs": []
    },
    {
      "cell_type": "code",
      "metadata": {
        "id": "Av6qPA2o8P_p"
      },
      "source": [
        "from sklearn.datasets import make_classification\n",
        "from sklearn.model_selection import train_test_split\n",
        "from sklearn.dummy import DummyClassifier\n",
        "from sklearn.svm import SVC\n",
        "from sklearn.metrics import classification_report, recall_score, precision_score, accuracy_score, confusion_matrix, precision_recall_curve, roc_auc_score, roc_curve, f1_score"
      ],
      "execution_count": null,
      "outputs": []
    },
    {
      "cell_type": "code",
      "metadata": {
        "id": "eYkRJ44i8P_q"
      },
      "source": [
        "import warnings\n",
        "warnings.filterwarnings(\"ignore\")"
      ],
      "execution_count": null,
      "outputs": []
    },
    {
      "cell_type": "code",
      "metadata": {
        "id": "xh_Zz2X28P_q"
      },
      "source": [
        "def print_result(y_test, yhat):\n",
        "    print(classification_report(y_test, yhat), \"\\n\")\n",
        "    print(confusion_matrix(y_test, yhat), \"\\n\")\n",
        "    print(\"accuracy score: \", round(accuracy_score(y_test, yhat), 3), \"\\n\")\n",
        "    print(\"precision score: \", round(precision_score(y_test, yhat), 3), \"\\n\")\n",
        "    print(\"recall score: \", round(recall_score(y_test, yhat), 3), \"\\n\")\n",
        "    print(\"F1 score: \", round(f1_score(y_test, yhat), 3), \"\\n\")\n",
        "    print(\"GMeans score: \", round(np.sqrt(recall_score(y_test, yhat) * precision_score(y_test, yhat)), 3), \"\\n\")"
      ],
      "execution_count": null,
      "outputs": []
    },
    {
      "cell_type": "code",
      "metadata": {
        "id": "djHdgDO58P_q"
      },
      "source": [
        "my_seed = 3"
      ],
      "execution_count": null,
      "outputs": []
    },
    {
      "cell_type": "code",
      "metadata": {
        "id": "5tR-xQIf8P_q"
      },
      "source": [
        "X, y = make_classification(n_samples=1000, n_features=2, random_state=my_seed, n_classes=2, weights=[0.90,0.10], n_informative=2, \n",
        "                           n_clusters_per_class=1, n_redundant=0, n_repeated=0)"
      ],
      "execution_count": null,
      "outputs": []
    },
    {
      "cell_type": "code",
      "metadata": {
        "id": "F1B9qAvK8P_q"
      },
      "source": [
        "plt.figure(figsize=(18,10))\n",
        "plt.scatter(X[:,0], X[:,1], c=y, s = 100)\n",
        "plt.title(\"Imbalanced Dataset?\\n 90% - 10%\")\n",
        "plt.show()"
      ],
      "execution_count": null,
      "outputs": []
    },
    {
      "cell_type": "code",
      "metadata": {
        "id": "TtpSeXK88P_r"
      },
      "source": [
        "X_train, X_test, y_train, y_test = train_test_split(X, y, test_size=0.25, stratify=y, random_state=my_seed)"
      ],
      "execution_count": null,
      "outputs": []
    },
    {
      "cell_type": "markdown",
      "metadata": {
        "id": "8gr-Q9iA8P_r"
      },
      "source": [
        "## Dummy Classifier\n",
        "### Build a baseline"
      ]
    },
    {
      "cell_type": "code",
      "metadata": {
        "id": "Drb8_WAF8P_s"
      },
      "source": [
        "dummy_clf = DummyClassifier(strategy='most_frequent', random_state=my_seed)"
      ],
      "execution_count": null,
      "outputs": []
    },
    {
      "cell_type": "code",
      "metadata": {
        "id": "iMGDSaX08P_s"
      },
      "source": [
        "dummy_clf.fit(X_train, y_train)\n",
        "yhat_dummy = dummy_clf.predict(X_test)"
      ],
      "execution_count": null,
      "outputs": []
    },
    {
      "cell_type": "code",
      "metadata": {
        "id": "zm6pGV0I8P_s"
      },
      "source": [
        "print_result(y_test, yhat_dummy)"
      ],
      "execution_count": null,
      "outputs": []
    },
    {
      "cell_type": "markdown",
      "metadata": {
        "id": "Z1jCUvEK8P_s"
      },
      "source": [
        "### SVM Classifier"
      ]
    },
    {
      "cell_type": "code",
      "metadata": {
        "id": "mfeok3I48P_s"
      },
      "source": [
        "svm_clf = SVC(probability=True)"
      ],
      "execution_count": null,
      "outputs": []
    },
    {
      "cell_type": "code",
      "metadata": {
        "id": "mBi_2Kje8P_t"
      },
      "source": [
        "svm_clf.fit(X_train, y_train)\n",
        "yhat_svm = svm_clf.predict(X_test)"
      ],
      "execution_count": null,
      "outputs": []
    },
    {
      "cell_type": "code",
      "metadata": {
        "id": "Vz9mSB1O8P_t"
      },
      "source": [
        "print_result(y_test, yhat_svm)"
      ],
      "execution_count": null,
      "outputs": []
    },
    {
      "cell_type": "markdown",
      "metadata": {
        "id": "kXJtV3OuT5-B"
      },
      "source": [
        "### Threshold-Moving by Precision-Recall AUC\n",
        "\n",
        "#### Precision and Recall Scores as function of the Decision Threshold"
      ]
    },
    {
      "cell_type": "code",
      "metadata": {
        "id": "iewI_qCr8P_t"
      },
      "source": [
        "df = svm_clf.decision_function(X_test)"
      ],
      "execution_count": null,
      "outputs": []
    },
    {
      "cell_type": "code",
      "metadata": {
        "id": "uOE9w786U8rq"
      },
      "source": [
        "print(yhat_svm[:50])\n",
        "print(\"\\n\")\n",
        "print(df[:50])"
      ],
      "execution_count": null,
      "outputs": []
    },
    {
      "cell_type": "code",
      "metadata": {
        "id": "A5fgX07g8P_t"
      },
      "source": [
        "precision, recall, threshold = precision_recall_curve(y_test, df)"
      ],
      "execution_count": null,
      "outputs": []
    },
    {
      "cell_type": "code",
      "metadata": {
        "id": "Py2UO6mn8P_t"
      },
      "source": [
        "plt.figure(figsize=(18,10))\n",
        "plt.plot(threshold, precision[:-1], c ='r', label ='PRECISION')\n",
        "plt.plot(threshold, recall[:-1], c ='b', label ='RECALL')\n",
        "plt.grid()\n",
        "plt.legend()\n",
        "plt.xlabel(\"Threshold\")\n",
        "plt.title('Precision and Recall Scores as function of the Decision Threshold')\n",
        "plt.show()"
      ],
      "execution_count": null,
      "outputs": []
    },
    {
      "cell_type": "markdown",
      "metadata": {
        "id": "TAgS9D2eCZo5"
      },
      "source": [
        "We choose the intersection who maximize both precision and recall (but not in this example)"
      ]
    },
    {
      "cell_type": "code",
      "metadata": {
        "id": "wYFW3yPT8P_u"
      },
      "source": [
        "my_thr = threshold[np.where(precision == recall)[0].tolist()][0]"
      ],
      "execution_count": null,
      "outputs": []
    },
    {
      "cell_type": "code",
      "metadata": {
        "id": "mNuPyMMR8P_u"
      },
      "source": [
        "yhat_alt = []\n",
        "for i in df:\n",
        "    if i < my_thr:\n",
        "        yhat_alt.append(0)\n",
        "    else:\n",
        "        yhat_alt.append(1)"
      ],
      "execution_count": null,
      "outputs": []
    },
    {
      "cell_type": "code",
      "metadata": {
        "id": "BTk1nF288P_u"
      },
      "source": [
        "print_result(y_test, yhat_alt)"
      ],
      "execution_count": null,
      "outputs": []
    },
    {
      "cell_type": "markdown",
      "metadata": {
        "id": "SihOVm34WXZL"
      },
      "source": [
        "***Can I improve the performance?*** \n",
        "\n",
        " Yes, in this example, look the curves."
      ]
    },
    {
      "cell_type": "code",
      "metadata": {
        "id": "17u47vwi8riI"
      },
      "source": [
        "my_thr2 = threshold[np.where(recall == recall[np.where(precision == recall)[0].tolist()[0]])[0].tolist()[-1]]"
      ],
      "execution_count": null,
      "outputs": []
    },
    {
      "cell_type": "code",
      "metadata": {
        "id": "ee13brVJ8P_u"
      },
      "source": [
        "yhat_alt2 = []\n",
        "for i in df:\n",
        "    if i < my_thr2:\n",
        "        yhat_alt2.append(0)\n",
        "    else:\n",
        "        yhat_alt2.append(1)"
      ],
      "execution_count": null,
      "outputs": []
    },
    {
      "cell_type": "code",
      "metadata": {
        "id": "ddFIgyRd8P_u"
      },
      "source": [
        "print_result(y_test, yhat_alt2)"
      ],
      "execution_count": null,
      "outputs": []
    },
    {
      "cell_type": "markdown",
      "metadata": {
        "id": "V-qrIHv6B9is"
      },
      "source": [
        "#### Precision - Recall Curve"
      ]
    },
    {
      "cell_type": "code",
      "metadata": {
        "id": "wWGhRECWBv_S"
      },
      "source": [
        "fscore = (2 * precision * recall) / (precision + recall)\n",
        "# locate the index of the largest f score\n",
        "ix = np.argmax(fscore)\n",
        "print('Best Threshold=%f, F-Score=%.3f' % (threshold[ix], fscore[ix]))"
      ],
      "execution_count": null,
      "outputs": []
    },
    {
      "cell_type": "code",
      "metadata": {
        "id": "RA1c92g7DCwi"
      },
      "source": [
        "plt.figure(figsize=(18,10))\n",
        "no_skill = len(y_test[y_test==1]) / len(y_test)\n",
        "plt.plot([0,1], [no_skill,no_skill], 'r--', label='No Skill')\n",
        "plt.plot(recall, precision, 'g-o', label='Model')\n",
        "plt.plot(recall[ix], precision[ix], 'ro', label='Best')\n",
        "plt.xlabel('Recall')\n",
        "plt.ylabel('Precision')\n",
        "plt.title('Precision-Recall Curve')\n",
        "plt.legend()\n",
        "plt.show()"
      ],
      "execution_count": null,
      "outputs": []
    },
    {
      "cell_type": "markdown",
      "metadata": {
        "id": "z9Pq2nnMEVT-"
      },
      "source": [
        "#### F1-Score as function of the Decision Threshold"
      ]
    },
    {
      "cell_type": "code",
      "metadata": {
        "id": "KaOQaMTmEbBj"
      },
      "source": [
        "plt.figure(figsize=(18,10))\n",
        "plt.plot(threshold, fscore[:-1], c ='black', label ='F-Score')\n",
        "plt.plot(threshold[ix], fscore[ix], 'ro', label='Best')\n",
        "plt.grid()\n",
        "plt.legend()\n",
        "plt.ylim((0,1))\n",
        "plt.xlabel(\"Threshold\")\n",
        "plt.ylabel(\"F-Score\")\n",
        "plt.title('F-Score as function of the Decision Threshold')\n",
        "plt.show()"
      ],
      "execution_count": null,
      "outputs": []
    },
    {
      "cell_type": "code",
      "metadata": {
        "id": "g4Mg9QNaTUA3"
      },
      "source": [
        "yhat_alt3 = []\n",
        "for i in df:\n",
        "    if i < threshold[ix]:\n",
        "        yhat_alt3.append(0)\n",
        "    else:\n",
        "        yhat_alt3.append(1)"
      ],
      "execution_count": null,
      "outputs": []
    },
    {
      "cell_type": "code",
      "metadata": {
        "id": "ElCmnTM3Tg6C"
      },
      "source": [
        "print_result(y_test, yhat_alt3)"
      ],
      "execution_count": null,
      "outputs": []
    },
    {
      "cell_type": "markdown",
      "metadata": {
        "id": "O4_9Q-TVZOC1"
      },
      "source": [
        "### Threshold-Moving by ROC AUC"
      ]
    },
    {
      "cell_type": "code",
      "metadata": {
        "id": "R8UMtU3E9Tlr"
      },
      "source": [
        "yhat_svm_prob = svm_clf.predict_proba(X_test)"
      ],
      "execution_count": null,
      "outputs": []
    },
    {
      "cell_type": "code",
      "metadata": {
        "id": "BJ-ZgKQzaUC7"
      },
      "source": [
        "fpr, tpr, threshold = roc_curve(y_test, yhat_svm_prob[:,1])"
      ],
      "execution_count": null,
      "outputs": []
    },
    {
      "cell_type": "code",
      "metadata": {
        "id": "gZmooZtAcvEN"
      },
      "source": [
        "roc_auc_score(y_test, yhat_svm_prob[:,1])"
      ],
      "execution_count": null,
      "outputs": []
    },
    {
      "cell_type": "code",
      "metadata": {
        "id": "iAEk0AkBbUWw"
      },
      "source": [
        "plt.figure(figsize=(18,10))\n",
        "plt.plot([0,1], [0,1], \"r--\")\n",
        "plt.plot(fpr, tpr, \"g-o\")\n",
        "plt.legend([\"No Skills\", \"SVM\"], loc='lower right')\n",
        "plt.title(\"ROC AUC\")\n",
        "plt.xlabel(\"False Positive Rate\")\n",
        "plt.ylabel(\"True Positive Rate\")\n",
        "plt.show()"
      ],
      "execution_count": null,
      "outputs": []
    },
    {
      "cell_type": "code",
      "metadata": {
        "id": "Dq39v12hcCiz"
      },
      "source": [
        "sensitivity = tpr\n",
        "specificity = 1 - fpr\n",
        "\n",
        "gmeans = np.sqrt(sensitivity * specificity)\n",
        "# locate the index of the largest gmeans\n",
        "idx = np.argmax(gmeans)\n",
        "print('Best Threshold=%f, F-Score=%.3f' % (threshold[idx], gmeans[idx]))"
      ],
      "execution_count": null,
      "outputs": []
    },
    {
      "cell_type": "code",
      "metadata": {
        "id": "-FFwSD9wfPBw"
      },
      "source": [
        "plt.figure(figsize=(18,10))\n",
        "plt.plot([0,1], [0,1], \"r--\")\n",
        "plt.plot(fpr, tpr, \"g-o\")\n",
        "plt.plot(fpr[idx], tpr[idx], \"ro\")\n",
        "plt.legend([\"No Skills\", \"SVM\", \"Best Threshold\"], loc='lower right')\n",
        "plt.title(\"ROC AUC\")\n",
        "plt.xlabel(\"False Positive Rate\")\n",
        "plt.ylabel(\"True Positive Rate\")\n",
        "plt.show()"
      ],
      "execution_count": null,
      "outputs": []
    },
    {
      "cell_type": "code",
      "metadata": {
        "id": "Kr57ryuEfvJw"
      },
      "source": [
        "yhat_alt4 = []\n",
        "for i in yhat_svm_prob[:,1]:\n",
        "  if i < threshold[idx]:\n",
        "    yhat_alt4.append(0)\n",
        "  else:\n",
        "    yhat_alt4.append(1)"
      ],
      "execution_count": null,
      "outputs": []
    },
    {
      "cell_type": "code",
      "metadata": {
        "id": "Trf6uHYLgEtz"
      },
      "source": [
        "print_result(y_test, yhat_alt4)"
      ],
      "execution_count": null,
      "outputs": []
    }
  ]
}