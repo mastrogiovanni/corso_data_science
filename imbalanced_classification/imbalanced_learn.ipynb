{
  "nbformat": 4,
  "nbformat_minor": 0,
  "metadata": {
    "kernelspec": {
      "display_name": "Python 3",
      "language": "python",
      "name": "python3"
    },
    "language_info": {
      "codemirror_mode": {
        "name": "ipython",
        "version": 3
      },
      "file_extension": ".py",
      "mimetype": "text/x-python",
      "name": "python",
      "nbconvert_exporter": "python",
      "pygments_lexer": "ipython3",
      "version": "3.8.5"
    },
    "colab": {
      "name": "imbalanced_learning.ipynb",
      "provenance": [],
      "include_colab_link": true
    }
  },
  "cells": [
    {
      "cell_type": "markdown",
      "metadata": {
        "id": "view-in-github",
        "colab_type": "text"
      },
      "source": [
        "<a href=\"https://colab.research.google.com/github/nickprock/corso_data_science/blob/master/imbalanced_classification/imbalanced_learn.ipynb\" target=\"_parent\"><img src=\"https://colab.research.google.com/assets/colab-badge.svg\" alt=\"Open In Colab\"/></a>"
      ]
    },
    {
      "cell_type": "markdown",
      "metadata": {
        "id": "ZhN0O38npQaI"
      },
      "source": [
        "# Imbalanced Dataset\n",
        "## Imblearn\n",
        "\n",
        "[Imbalanced-learn](https://imbalanced-learn.org/stable/index.html) is an open source, MIT-licensed library relying on scikit-learn and provides tools when dealing with classification with imbalanced classes.\n",
        "\n",
        "<br>\n",
        "\n",
        "![logo](https://imbalanced-learn.org/stable/_static/logo.png)\n",
        "\n",
        "<br>"
      ]
    },
    {
      "cell_type": "code",
      "metadata": {
        "id": "pBTjG_iepQaU"
      },
      "source": [
        "import numpy as np\n",
        "import pandas as pd\n",
        "import matplotlib.pyplot as plt\n",
        "%matplotlib inline"
      ],
      "execution_count": null,
      "outputs": []
    },
    {
      "cell_type": "code",
      "metadata": {
        "id": "be_tXbyuuwIZ"
      },
      "source": [
        "import warnings\n",
        "warnings.filterwarnings(\"ignore\")"
      ],
      "execution_count": null,
      "outputs": []
    },
    {
      "cell_type": "code",
      "metadata": {
        "id": "zwzNFXeFueyT"
      },
      "source": [
        "random_state = 1"
      ],
      "execution_count": null,
      "outputs": []
    },
    {
      "cell_type": "code",
      "metadata": {
        "id": "p-5PFCWbpQa-"
      },
      "source": [
        "from sklearn.datasets import make_classification"
      ],
      "execution_count": null,
      "outputs": []
    },
    {
      "cell_type": "code",
      "metadata": {
        "id": "1Fe0ISoopQa_"
      },
      "source": [
        "X, y = make_classification(n_samples=1000, n_features=2, random_state=random_state, n_classes=2, weights=[0.90,0.10], n_informative=2, \n",
        "                           n_clusters_per_class=1, n_redundant=0, n_repeated=0)"
      ],
      "execution_count": null,
      "outputs": []
    },
    {
      "cell_type": "code",
      "metadata": {
        "id": "8uazvqT4pQbA"
      },
      "source": [
        "plt.figure(figsize=(18,10))\n",
        "plt.scatter(X[:,0], X[:,1], c=y, s = 100)\n",
        "plt.title(\"Imbalanced Dataset?\\n 90% - 10%\")\n",
        "#plt.legend([\"class_1\", \"class_2\", \"class_3\"])\n",
        "plt.show()"
      ],
      "execution_count": null,
      "outputs": []
    },
    {
      "cell_type": "code",
      "metadata": {
        "id": "HWiwkTJCpQbC"
      },
      "source": [
        "print(len(y[y==1]))\n",
        "print(len(y[y==0]))"
      ],
      "execution_count": null,
      "outputs": []
    },
    {
      "cell_type": "markdown",
      "metadata": {
        "id": "lkV8p5MVpQbD"
      },
      "source": [
        "# Undersampling\n",
        "\n",
        "## RandomUnderSampling"
      ]
    },
    {
      "cell_type": "code",
      "metadata": {
        "id": "7J6GbLaFpQbE"
      },
      "source": [
        "from imblearn.under_sampling import RandomUnderSampler"
      ],
      "execution_count": null,
      "outputs": []
    },
    {
      "cell_type": "code",
      "metadata": {
        "id": "P5OVAd-ZpQbE"
      },
      "source": [
        "rus = RandomUnderSampler(random_state=random_state, sampling_strategy= 0.3, replacement=True)"
      ],
      "execution_count": null,
      "outputs": []
    },
    {
      "cell_type": "code",
      "metadata": {
        "id": "5Huxj6-OpQbF"
      },
      "source": [
        "rus_x, rus_y = rus.fit_resample(X, y)"
      ],
      "execution_count": null,
      "outputs": []
    },
    {
      "cell_type": "code",
      "metadata": {
        "id": "a3d5tkE1pQbG"
      },
      "source": [
        "plt.figure(figsize=(18,10))\n",
        "plt.scatter(rus_x[:,0], rus_x[:,1], c=rus_y, s = 100)\n",
        "plt.title(\"Random Undersampling\")\n",
        "plt.show()"
      ],
      "execution_count": null,
      "outputs": []
    },
    {
      "cell_type": "code",
      "metadata": {
        "id": "mIAPvsGUpQbG"
      },
      "source": [
        "print(X.shape)\n",
        "print(y.shape)"
      ],
      "execution_count": null,
      "outputs": []
    },
    {
      "cell_type": "code",
      "metadata": {
        "id": "nU7oSgdFpQbH"
      },
      "source": [
        "print(rus_x.shape)\n",
        "print(rus_y.shape)"
      ],
      "execution_count": null,
      "outputs": []
    },
    {
      "cell_type": "code",
      "metadata": {
        "id": "A2gS0OqapQbH"
      },
      "source": [
        "print(len(rus_y[rus_y==1]))\n",
        "print(len(rus_y[rus_y==0]))"
      ],
      "execution_count": null,
      "outputs": []
    },
    {
      "cell_type": "markdown",
      "metadata": {
        "id": "l-CfjUzopQbI"
      },
      "source": [
        "## NearMiss"
      ]
    },
    {
      "cell_type": "code",
      "metadata": {
        "id": "YQDclR4GpQbI"
      },
      "source": [
        "from imblearn.under_sampling import NearMiss "
      ],
      "execution_count": null,
      "outputs": []
    },
    {
      "cell_type": "code",
      "metadata": {
        "id": "RSBHNOOCpQbJ"
      },
      "source": [
        "nm = NearMiss(sampling_strategy= 0.3, version=3, n_jobs=-1, n_neighbors_ver3=7, n_neighbors=3)\n",
        "nm_x, nm_y = nm.fit_resample(X, y)"
      ],
      "execution_count": null,
      "outputs": []
    },
    {
      "cell_type": "code",
      "metadata": {
        "id": "aGVbf-sXpQbK"
      },
      "source": [
        "plt.figure(figsize=(18,10))\n",
        "plt.scatter(nm_x[:,0], nm_x[:,1], c=nm_y, s = 100)\n",
        "plt.title(\"NearMiss: 3\")\n",
        "plt.show()"
      ],
      "execution_count": null,
      "outputs": []
    },
    {
      "cell_type": "code",
      "metadata": {
        "id": "90yiA-clpQbJ"
      },
      "source": [
        "nm = NearMiss(sampling_strategy= 0.3, version=2, n_jobs=-1, n_neighbors_ver3=7, n_neighbors=3)\n",
        "nm_x, nm_y = nm.fit_resample(X, y)"
      ],
      "execution_count": null,
      "outputs": []
    },
    {
      "cell_type": "code",
      "metadata": {
        "id": "EMF0UClopQbK"
      },
      "source": [
        "plt.figure(figsize=(18,10))\n",
        "plt.scatter(nm_x[:,0], nm_x[:,1], c=nm_y, s = 100)\n",
        "plt.title(\"NearMiss: 2\")\n",
        "plt.show()"
      ],
      "execution_count": null,
      "outputs": []
    },
    {
      "cell_type": "code",
      "metadata": {
        "id": "RsaXNYeEvqdf"
      },
      "source": [
        "nm = NearMiss(sampling_strategy= 0.3, version=1, n_jobs=-1, n_neighbors_ver3=7, n_neighbors=3)\n",
        "nm_x, nm_y = nm.fit_resample(X, y)"
      ],
      "execution_count": null,
      "outputs": []
    },
    {
      "cell_type": "code",
      "metadata": {
        "id": "AIfNM08KpQbL"
      },
      "source": [
        "plt.figure(figsize=(18,10))\n",
        "plt.scatter(nm_x[:,0], nm_x[:,1], c=nm_y, s = 100)\n",
        "plt.title(\"NearMiss: 1\")\n",
        "plt.show()"
      ],
      "execution_count": null,
      "outputs": []
    },
    {
      "cell_type": "code",
      "metadata": {
        "id": "5ewKCuiqpQbL"
      },
      "source": [
        "print(nm_x.shape)\n",
        "print(nm_y.shape)\n",
        "print(len(nm_y[nm_y==1]))\n",
        "print(len(nm_y[nm_y==0]))"
      ],
      "execution_count": null,
      "outputs": []
    },
    {
      "cell_type": "markdown",
      "metadata": {
        "id": "Qw0XMR59pQbM"
      },
      "source": [
        "## Tomek's Link"
      ]
    },
    {
      "cell_type": "code",
      "metadata": {
        "id": "vjlMVWOLpQbM"
      },
      "source": [
        "from imblearn.under_sampling import TomekLinks"
      ],
      "execution_count": null,
      "outputs": []
    },
    {
      "cell_type": "code",
      "metadata": {
        "id": "mAxfCwYppQbN"
      },
      "source": [
        "tl = TomekLinks(n_jobs= -1, sampling_strategy=\"majority\")"
      ],
      "execution_count": null,
      "outputs": []
    },
    {
      "cell_type": "code",
      "metadata": {
        "id": "aVifinPjpQbN"
      },
      "source": [
        "tl_x, tl_y = tl.fit_resample(X, y)"
      ],
      "execution_count": null,
      "outputs": []
    },
    {
      "cell_type": "code",
      "metadata": {
        "id": "8fRNU_pNpQbO"
      },
      "source": [
        "plt.figure(figsize=(18,10))\n",
        "plt.scatter(tl_x[:,0], tl_x[:,1], c=tl_y, s = 100)\n",
        "plt.title(\"Tomek's Link\")\n",
        "plt.show()"
      ],
      "execution_count": null,
      "outputs": []
    },
    {
      "cell_type": "code",
      "metadata": {
        "id": "cWDHm17ypQbP"
      },
      "source": [
        "print(tl_x.shape)\n",
        "print(tl_y.shape)\n",
        "print(len(tl_y[tl_y==1]))\n",
        "print(len(tl_y[tl_y==0]))"
      ],
      "execution_count": null,
      "outputs": []
    },
    {
      "cell_type": "markdown",
      "metadata": {
        "id": "089_bHuRpQbP"
      },
      "source": [
        "## KNN - Based\n",
        "\n",
        "### RepeatedEditedNearestNeighbours"
      ]
    },
    {
      "cell_type": "code",
      "metadata": {
        "id": "OoaRgy2LpQbQ"
      },
      "source": [
        "from imblearn.under_sampling import RepeatedEditedNearestNeighbours"
      ],
      "execution_count": null,
      "outputs": []
    },
    {
      "cell_type": "code",
      "metadata": {
        "id": "qvz3yryRpQbQ"
      },
      "source": [
        "renn = RepeatedEditedNearestNeighbours(sampling_strategy=\"majority\", kind_sel=\"mode\", n_jobs=-1, n_neighbors=3)"
      ],
      "execution_count": null,
      "outputs": []
    },
    {
      "cell_type": "code",
      "metadata": {
        "id": "P1sf3VIBpQbQ"
      },
      "source": [
        "renn_x, renn_y = renn.fit_resample(X, y)"
      ],
      "execution_count": null,
      "outputs": []
    },
    {
      "cell_type": "code",
      "metadata": {
        "id": "0hpjdbVOpQbR"
      },
      "source": [
        "plt.figure(figsize=(18,10))\n",
        "plt.scatter(renn_x[:,0], renn_x[:,1], c=renn_y, s = 100)\n",
        "plt.title(\"RepeatedEditedNearestNeighbours\")\n",
        "plt.show()"
      ],
      "execution_count": null,
      "outputs": []
    },
    {
      "cell_type": "code",
      "metadata": {
        "id": "_p4HRQjgpQbR"
      },
      "source": [
        "print(renn_x.shape)\n",
        "print(renn_y.shape)\n",
        "print(len(renn_y[renn_y==1]))\n",
        "print(len(renn_y[renn_y==0]))"
      ],
      "execution_count": null,
      "outputs": []
    },
    {
      "cell_type": "markdown",
      "metadata": {
        "id": "IrJJN2sCpQbS"
      },
      "source": [
        "### AllKNN"
      ]
    },
    {
      "cell_type": "code",
      "metadata": {
        "id": "iDGbQzp2pQbS"
      },
      "source": [
        "from imblearn.under_sampling import AllKNN"
      ],
      "execution_count": null,
      "outputs": []
    },
    {
      "cell_type": "code",
      "metadata": {
        "id": "6K74kdLMpQbT"
      },
      "source": [
        "aknn = AllKNN(sampling_strategy=\"majority\", kind_sel=\"mode\", n_jobs=-1, allow_minority=False)"
      ],
      "execution_count": null,
      "outputs": []
    },
    {
      "cell_type": "code",
      "metadata": {
        "id": "f2Mt-H9fpQbT"
      },
      "source": [
        "aknn_x, aknn_y = aknn.fit_resample(X, y)"
      ],
      "execution_count": null,
      "outputs": []
    },
    {
      "cell_type": "code",
      "metadata": {
        "id": "9O68DhbtpQbT"
      },
      "source": [
        "plt.figure(figsize=(18,10))\n",
        "plt.scatter(aknn_x[:,0], aknn_x[:,1], c=aknn_y, s = 100)\n",
        "plt.title(\"AllKNN\")\n",
        "plt.show()"
      ],
      "execution_count": null,
      "outputs": []
    },
    {
      "cell_type": "code",
      "metadata": {
        "id": "mLWT2hc5pQbU"
      },
      "source": [
        "print(aknn_x.shape)\n",
        "print(aknn_y.shape)\n",
        "print(len(aknn_y[aknn_y==1]))\n",
        "print(len(aknn_y[aknn_y==0]))"
      ],
      "execution_count": null,
      "outputs": []
    },
    {
      "cell_type": "markdown",
      "metadata": {
        "id": "P79bZN3-pQbX"
      },
      "source": [
        "# Oversampling\n",
        "\n",
        "## RandomOverSampler"
      ]
    },
    {
      "cell_type": "code",
      "metadata": {
        "id": "CAtVEtbItmGs"
      },
      "source": [
        "from imblearn.over_sampling import RandomOverSampler"
      ],
      "execution_count": null,
      "outputs": []
    },
    {
      "cell_type": "code",
      "metadata": {
        "id": "0j3k_1VJzCM2"
      },
      "source": [
        "ros = RandomOverSampler(random_state=random_state, sampling_strategy= 0.3)\n",
        "ros_x, ros_y = ros.fit_resample(X, y)"
      ],
      "execution_count": null,
      "outputs": []
    },
    {
      "cell_type": "code",
      "metadata": {
        "id": "ml-wY9l0zYI4"
      },
      "source": [
        "plt.figure(figsize=(18,10))\n",
        "plt.scatter(ros_x[:,0], ros_x[:,1], c=ros_y, s = 100)\n",
        "plt.title(\"Random Oversampling\")\n",
        "plt.show()"
      ],
      "execution_count": null,
      "outputs": []
    },
    {
      "cell_type": "code",
      "metadata": {
        "id": "7NXAOxIGzszo"
      },
      "source": [
        "print(ros_x.shape)\n",
        "print(ros_y.shape)\n",
        "print(len(ros_y[ros_y==1]))\n",
        "print(len(ros_y[ros_y==0]))"
      ],
      "execution_count": null,
      "outputs": []
    },
    {
      "cell_type": "markdown",
      "metadata": {
        "id": "-w4dixvQpQbX"
      },
      "source": [
        "## SMOTE e ADASYN"
      ]
    },
    {
      "cell_type": "code",
      "metadata": {
        "id": "sOdo0w2tpQbX"
      },
      "source": [
        "from imblearn.over_sampling import SMOTE, ADASYN"
      ],
      "execution_count": null,
      "outputs": []
    },
    {
      "cell_type": "code",
      "metadata": {
        "id": "purFFiT2pQbY"
      },
      "source": [
        "smote = SMOTE(sampling_strategy=0.3, n_jobs=-1, random_state=random_state)"
      ],
      "execution_count": null,
      "outputs": []
    },
    {
      "cell_type": "code",
      "metadata": {
        "id": "NoHkmPnxpQbY"
      },
      "source": [
        "smote_x, smote_y = smote.fit_resample(X, y)"
      ],
      "execution_count": null,
      "outputs": []
    },
    {
      "cell_type": "code",
      "metadata": {
        "id": "R0ROdovHpQbY"
      },
      "source": [
        "plt.figure(figsize=(18,10))\n",
        "plt.scatter(smote_x[:,0], smote_x[:,1], c=smote_y, s = 100)\n",
        "plt.title(\"SMOTE\")\n",
        "plt.show()"
      ],
      "execution_count": null,
      "outputs": []
    },
    {
      "cell_type": "code",
      "metadata": {
        "id": "YhX1MLlFpQbZ"
      },
      "source": [
        "print(smote_x.shape)\n",
        "print(smote_y.shape)\n",
        "print(len(smote_y[smote_y==1]))\n",
        "print(len(smote_y[smote_y==0]))"
      ],
      "execution_count": null,
      "outputs": []
    },
    {
      "cell_type": "code",
      "metadata": {
        "id": "nlt6xwbCpQba"
      },
      "source": [
        "adasyn = ADASYN(sampling_strategy=0.3, n_jobs=-1, random_state=random_state)"
      ],
      "execution_count": null,
      "outputs": []
    },
    {
      "cell_type": "code",
      "metadata": {
        "id": "2JnnEIbipQba"
      },
      "source": [
        "as_x, as_y = adasyn.fit_resample(X, y)"
      ],
      "execution_count": null,
      "outputs": []
    },
    {
      "cell_type": "code",
      "metadata": {
        "id": "-tXMVVd3pQba"
      },
      "source": [
        "plt.figure(figsize=(18,10))\n",
        "plt.scatter(as_x[:,0], as_x[:,1], c=as_y, s = 100)\n",
        "plt.title(\"ADASYN\")\n",
        "plt.show()"
      ],
      "execution_count": null,
      "outputs": []
    },
    {
      "cell_type": "code",
      "metadata": {
        "id": "00MpNK6mpQbb"
      },
      "source": [
        "print(as_x.shape)\n",
        "print(as_y.shape)\n",
        "print(len(as_y[as_y==1]))\n",
        "print(len(as_y[as_y==0]))"
      ],
      "execution_count": null,
      "outputs": []
    },
    {
      "cell_type": "markdown",
      "metadata": {
        "id": "mztUCIaA1GK0"
      },
      "source": [
        "## Combination of over- and under-sampling\n",
        "\n",
        "### Combine SMOTE and RandomUnderSampler"
      ]
    },
    {
      "cell_type": "code",
      "metadata": {
        "id": "MIO2gSFBpQbb"
      },
      "source": [
        "step1 = SMOTE(sampling_strategy=0.6, n_jobs=-1, random_state=random_state)\n",
        "step2 = RandomUnderSampler(sampling_strategy=0.3, random_state=random_state, replacement=True)"
      ],
      "execution_count": null,
      "outputs": []
    },
    {
      "cell_type": "code",
      "metadata": {
        "id": "dHBdQ9xx2d3k"
      },
      "source": [
        "X1, y1 = step1.fit_resample(X,y)\n",
        "X2, y2 = step2.fit_resample(X1, y1)"
      ],
      "execution_count": null,
      "outputs": []
    },
    {
      "cell_type": "code",
      "metadata": {
        "id": "XRlYC4au2r6Q"
      },
      "source": [
        "plt.figure(figsize=(18,10))\n",
        "plt.scatter(X2[:,0], X2[:,1], c=y2, s = 100)\n",
        "plt.title(\"SMOTE+RUS\")\n",
        "plt.show()"
      ],
      "execution_count": null,
      "outputs": []
    },
    {
      "cell_type": "code",
      "metadata": {
        "id": "Yp8y33IQ20f5"
      },
      "source": [
        "print(\"Dimensioni dopo il primo step: SMOTE\")\n",
        "print(\"\\n\")\n",
        "print(X1.shape)\n",
        "print(X1.shape)\n",
        "print(\"y=1: \", len(y1[y1==1]))\n",
        "print(\"y=0: \", len(y1[y1==0]))\n",
        "print(\"\\n\")\n",
        "print(\"Dimensioni dopo il secondo step: RandomUnderSampler\")\n",
        "print(\"\\n\")\n",
        "print(X2.shape)\n",
        "print(X2.shape)\n",
        "print(\"y=1: \", len(y2[y2==1]))\n",
        "print(\"y=0: \", len(y2[y2==0]))\n"
      ],
      "execution_count": null,
      "outputs": []
    }
  ]
}