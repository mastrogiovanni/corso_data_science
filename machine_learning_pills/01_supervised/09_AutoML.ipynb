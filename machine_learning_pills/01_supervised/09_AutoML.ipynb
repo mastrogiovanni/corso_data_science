{
  "nbformat": 4,
  "nbformat_minor": 0,
  "metadata": {
    "colab": {
      "name": "09_AutoML.ipynb",
      "provenance": [],
      "collapsed_sections": [],
      "authorship_tag": "ABX9TyMR8qAIs7VIUbNnTjCqIKFK",
      "include_colab_link": true
    },
    "kernelspec": {
      "name": "python3",
      "display_name": "Python 3"
    }
  },
  "cells": [
    {
      "cell_type": "markdown",
      "metadata": {
        "id": "view-in-github",
        "colab_type": "text"
      },
      "source": [
        "<a href=\"https://colab.research.google.com/github/nickprock/corso_data_science/blob/devs/machine_learning_pills/01_supervised/09_AutoML.ipynb\" target=\"_parent\"><img src=\"https://colab.research.google.com/assets/colab-badge.svg\" alt=\"Open In Colab\"/></a>"
      ]
    },
    {
      "cell_type": "markdown",
      "metadata": {
        "id": "_yDU72vrHid3",
        "colab_type": "text"
      },
      "source": [
        "# AutoML Framework\n",
        "\n",
        "### Nota Introduttiva\n",
        "Questo notebook è la traduzione dell'articolo [**AutoML Frameworks in R & Python**](https://www.r-bloggers.com/automl-frameworks-in-r-python/). Noi tratteremo solo la parte Python.\n",
        "\n",
        "Ho aggiunto questo notebook per mostare degli strumenti che stanno prendendo molto piede, qualche anno fa si parlava addirittura di fine dei data scientist, e per far vedere che nonostante siano un grande aiuto per chi fa questo lavoro non basata \"*prendere i dati e buttarli dentro*\" per avere un buon modello.\n",
        "\n",
        "In particolare vedremo [H2O](http://docs.h2o.ai/h2o/latest-stable/h2o-docs/automl.html)\n",
        "\n",
        "\n",
        "**Il dataset utilizzato sarà Iris.**\n",
        "\n",
        "## Cos'è AutoML\n",
        "\n",
        "Negli ultimi anni, AutoML o Machine Learning automatizzato sono diventati molto popolari.\n",
        "\n",
        "I giganti della tecnologia come Google, Amazon e Microsoft hanno iniziato a offrire strumenti AutoML.\n",
        "\n",
        "C'è ancora una divisione tra i data scientist quando si tratta di AutoML. Alcuni temono che sarà una minaccia per il loro lavoro o peggio far chiudere interi rami aziendali. Altri lo vedono come uno strumento che potrebbero sfruttare per compiti non critici o per rafforzare le loro intuizioni.\n",
        "\n",
        "**Pro:**\n",
        "\n",
        "* **Risparmio di tempo**: è uno strumento di prototipazione rapida in logica \"*smart & dirty*\". Se non stai lavorando su attività critiche, puoi utilizzare AutoML per fare il lavoro per te mentre ti concentri su attività che richiedono maggiorre concentrazione.\n",
        "* **Benchmarking**: costruire un modello ML / DL è divertente. Ma come fai a sapere che il modello che hai è il migliore? O devi dedicare molto tempo alla costruzione di modelli iterativi o chiedere al tuo collega di costruirne uno e confrontarlo. L'altra opzione è utilizzare AutoML per confrontare i tuoi.\n",
        "\n",
        "**Contro:**\n",
        "\n",
        "* La maggior parte dei modelli di intelligenza artificiale, in particolare le reti neurali, sono **scatole nere**. Simile è il caso di questi framework AutoML. Se non si comprende bene cosa si sta facendo, potrebbe essere catastrofico.\n",
        "* AutoML viene commercializzato come uno strumento per citizen data scientist e per chi non fa data science come principale occupazione. Questa è una brutta mossa. **Senza capire come funziona un modello e usarlo ciecamente per prendere decisioni potrebbe essere disastroso.**\n"
      ]
    },
    {
      "cell_type": "code",
      "metadata": {
        "id": "R5KTW0JRgn_v",
        "colab_type": "code",
        "colab": {}
      },
      "source": [
        "import pandas as pd\n",
        "import numpy as np\n",
        "import matplotlib.pyplot as plt\n",
        "from sklearn.datasets import load_iris\n",
        "from sklearn.model_selection import train_test_split"
      ],
      "execution_count": 0,
      "outputs": []
    },
    {
      "cell_type": "code",
      "metadata": {
        "id": "GvUV97HMsF3P",
        "colab_type": "code",
        "colab": {}
      },
      "source": [
        "data = load_iris()"
      ],
      "execution_count": 0,
      "outputs": []
    },
    {
      "cell_type": "code",
      "metadata": {
        "id": "ND7wmMyPsJ1H",
        "colab_type": "code",
        "colab": {}
      },
      "source": [
        "iris = pd.DataFrame({'sepal length': data.data[:,0],\n",
        "  'sepal width': data.data[:,1],\n",
        "  'petal length': data.data[:,2],\n",
        "  'petal width': data.data[:,3], 'species': data.target})"
      ],
      "execution_count": 0,
      "outputs": []
    },
    {
      "cell_type": "code",
      "metadata": {
        "id": "Iyz2uDHjs0xM",
        "colab_type": "code",
        "colab": {}
      },
      "source": [
        "train, test = train_test_split(iris, test_size = 0.25, random_state = 42)"
      ],
      "execution_count": 0,
      "outputs": []
    },
    {
      "cell_type": "markdown",
      "metadata": {
        "id": "coT3Pu2HrdvE",
        "colab_type": "text"
      },
      "source": [
        "## H2O\n",
        "\n",
        "<br>\n",
        "\n",
        "![h20](https://iamnagdev.files.wordpress.com/2020/04/1s6ke_nwoge5m7ok1onsjsq.png?w=351&h=375&fit=351%2C375&resize=351%2C375)\n",
        "\n",
        "<br>\n",
        "\n",
        "[Image Credits](https://www.r-bloggers.com/automl-frameworks-in-r-python/)\n",
        "\n",
        "<br>\n",
        "\n",
        "H2O Offre modelli di ensemble ML, deep learning e altri. Sebbene sia scritto in Java, offre connettori per R e Python tramite API. [Una delle migliori caratteristiche è il \"*tempo di arresto*\", in cui è possibile impostare per quanto tempo si vuole allenare il modello. Caratteristica analoga è la scelta del numero di modelli da provare](http://docs.h2o.ai/h2o/latest-stable/h2o-docs/automl.html).\n",
        "\n",
        "Restituisce una leaderboard di modelli è [possibile ordinarla e scegliere secondo diverse metriche](http://docs.h2o.ai/h2o/latest-stable/h2o-docs/data-science/algo-params/sort_metric.html)."
      ]
    },
    {
      "cell_type": "code",
      "metadata": {
        "id": "pXpsNU9lrefx",
        "colab_type": "code",
        "colab": {}
      },
      "source": [
        "# installazione\n",
        "!pip install requests\n",
        "!pip install tabulate\n",
        "!pip install \"colorama>=0.3.8\"\n",
        "!pip install future\n",
        "\n",
        "!pip install -f http://h2o-release.s3.amazonaws.com/h2o/latest_stable_Py.html h2o"
      ],
      "execution_count": 0,
      "outputs": []
    },
    {
      "cell_type": "markdown",
      "metadata": {
        "id": "kiwf9vE8a1Sx",
        "colab_type": "text"
      },
      "source": [
        "La prima cosa da fare è aprire la connessione con il server di H2O"
      ]
    },
    {
      "cell_type": "code",
      "metadata": {
        "id": "5ZZJv0rnu1f5",
        "colab_type": "code",
        "colab": {}
      },
      "source": [
        "# load python libraries\n",
        "import h2o\n",
        "from h2o.automl import H2OAutoML\n",
        "\n",
        "# start cluster\n",
        "h2o.init()"
      ],
      "execution_count": 0,
      "outputs": []
    },
    {
      "cell_type": "markdown",
      "metadata": {
        "id": "8yBNihOcbBIC",
        "colab_type": "text"
      },
      "source": [
        "H2O ha un  suo DataFrame, quindi i pandas DataFrame vanno convertiti.\n",
        "\n",
        "Inoltre la variabile target và impostata come tipo *factor* per la classificazione, nel nostro caso è un intero [0,1,2]."
      ]
    },
    {
      "cell_type": "code",
      "metadata": {
        "id": "fNWVpIbMvKHY",
        "colab_type": "code",
        "colab": {}
      },
      "source": [
        "# convert to h2o frame\n",
        "traindf = h2o.H2OFrame(train)\n",
        "testdf = h2o.H2OFrame(test)\n",
        " \n",
        "y = \"species\"\n",
        "x = list(traindf.columns)\n",
        "x.remove(y)\n",
        " \n",
        "# create df to factors\n",
        "traindf[y] = traindf[y].asfactor()\n",
        "testdf[y] = testdf[y].asfactor()"
      ],
      "execution_count": 0,
      "outputs": []
    },
    {
      "cell_type": "code",
      "metadata": {
        "id": "TnhKi2__vOKP",
        "colab_type": "code",
        "colab": {}
      },
      "source": [
        "#run automl\n",
        "aml = H2OAutoML(max_runtime_secs = 60)\n",
        "aml.train(x = x, y = y, training_frame = traindf)"
      ],
      "execution_count": 0,
      "outputs": []
    },
    {
      "cell_type": "code",
      "metadata": {
        "id": "570wGt_yvacg",
        "colab_type": "code",
        "colab": {}
      },
      "source": [
        " # view leader board\n",
        "aml.leaderboard"
      ],
      "execution_count": 0,
      "outputs": []
    },
    {
      "cell_type": "markdown",
      "metadata": {
        "id": "RvHcTwBCdWcN",
        "colab_type": "text"
      },
      "source": [
        "Il modello migliore si richiama con *.leader*, ci fa vedere una griglia di parametri sul perchè è il migliore.\n",
        "\n",
        "Per salvare il modello:\n",
        "\n",
        "\n",
        "\n",
        "```\n",
        "model_path = h2o.save_model(model=aml.leader, path= \"YourFolder\", force=True)\n",
        "```\n",
        "\n"
      ]
    },
    {
      "cell_type": "code",
      "metadata": {
        "id": "UEtv3OGAviWC",
        "colab_type": "code",
        "colab": {}
      },
      "source": [
        "aml.leader"
      ],
      "execution_count": 0,
      "outputs": []
    },
    {
      "cell_type": "code",
      "metadata": {
        "id": "JHkq7DvQvf0P",
        "colab_type": "code",
        "colab": {}
      },
      "source": [
        "# do pridiction and convert it to a data frame\n",
        "predict = aml.predict(testdf)\n",
        "p = predict.as_data_frame()\n",
        " \n",
        "# convert to pandas dataframe\n",
        "data = {'actual': test.species, 'Ypredict': p['predict'].tolist()}\n",
        " \n",
        "df = pd.DataFrame(data, columns = ['actual','Ypredict'])\n",
        " \n",
        "# create a confusion matrix and print results\n",
        "confusion_matrix = pd.crosstab(df['actual'], df['Ypredict'], rownames=['Actual'], colnames=['Predicted'])\n",
        "print (confusion_matrix)"
      ],
      "execution_count": 0,
      "outputs": []
    },
    {
      "cell_type": "markdown",
      "metadata": {
        "id": "7RLexor8flYV",
        "colab_type": "text"
      },
      "source": [
        "**Ricordarsi di chiudere la connessione**"
      ]
    },
    {
      "cell_type": "code",
      "metadata": {
        "id": "U9ssHBVEvoBa",
        "colab_type": "code",
        "colab": {}
      },
      "source": [
        "# close h2o connection\n",
        "h2o.shutdown(prompt = False)"
      ],
      "execution_count": 0,
      "outputs": []
    },
    {
      "cell_type": "markdown",
      "metadata": {
        "id": "Xv3RmsreaRCy",
        "colab_type": "text"
      },
      "source": [
        "### Esercizi\n",
        "\n",
        "1. Utilizzare una altro dataset tra quelli visti a lezione con H2O AutoML\n",
        "2. Provare a calcolare la confusion matrix con sklear\n",
        "3. Calcolare Accuracy, Precision e Recall\n",
        "\n",
        "### Link Utili\n",
        "\n",
        "[A Deep dive into H2O’s AutoML](https://towardsdatascience.com/a-deep-dive-into-h2os-automl-4b1fe51d3f3e)\n",
        "\n",
        "[AutoML — A Tool to Improve Your Workflow](https://towardsdatascience.com/automl-a-tool-to-improve-your-workflow-1a132248371f)\n",
        "\n",
        "[What is AutoML?](https://www.automl.org/automl/)"
      ]
    }
  ]
}