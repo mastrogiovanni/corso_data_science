{
  "nbformat": 4,
  "nbformat_minor": 0,
  "metadata": {
    "colab": {
      "name": "10_classificare_documenti.ipynb",
      "provenance": [],
      "collapsed_sections": [],
      "authorship_tag": "ABX9TyP4YPVgpstMw2IN4/VA6RkX",
      "include_colab_link": true
    },
    "kernelspec": {
      "name": "python3",
      "display_name": "Python 3"
    },
    "accelerator": "GPU"
  },
  "cells": [
    {
      "cell_type": "markdown",
      "metadata": {
        "id": "view-in-github",
        "colab_type": "text"
      },
      "source": [
        "<a href=\"https://colab.research.google.com/github/nickprock/corso_data_science/blob/devs/corso_data_science/machine_learning_pills/10_classificare_documenti.ipynb\" target=\"_parent\"><img src=\"https://colab.research.google.com/assets/colab-badge.svg\" alt=\"Open In Colab\"/></a>"
      ]
    },
    {
      "cell_type": "markdown",
      "metadata": {
        "id": "YK7RsG2jE1QX",
        "colab_type": "text"
      },
      "source": [
        "## Classificare Documenti col Deep Learning\n",
        "\n",
        "<br>\n",
        "\n",
        "![news](https://thedcpatriot.com/wp-content/uploads/2020/01/breaking.jpg)\n",
        "\n",
        "<br>\n",
        "\n",
        "[Image Credits](https://thedcpatriot.com/)\n",
        "\n",
        "<br>\n",
        "\n",
        "Questo notebook prende spunto da un [esercizio](https://github.com/fchollet/deep-learning-with-python-notebooks/blob/master/3.6-classifying-newswires.ipynb) contenuto nel libro **Deep Learning with Python** di [Francois Chollet](https://fchollet.com/).\n",
        "\n",
        "Sfrutta il dataset *Reuters* contenuto nella libreria keras di Tensorflow, e serve per classificare le notizie in 46 categorie a seconda del testo.\n",
        "\n",
        "Nel nostro caso servirà a capire come trattare dati non tabulari, visto che abbiamo visto quasi solo esclusivamente questi ultimi durante le lezioni.\n",
        "\n",
        "<br>\n",
        "\n",
        "![Keras](https://s3.amazonaws.com/keras.io/img/keras-logo-2018-large-1200.png)\n",
        "\n",
        "<br>\n",
        "\n",
        "[Image Credits](https://keras.io/)\n",
        "\n",
        "<br>\n",
        "\n",
        "### Cos'è Keras?\n",
        "\n",
        "[Keras](https://keras.io/) è una libreria open source per il machine learning e le reti neurali, scritta in Python. È progettata come un'interfaccia a un livello di astrazione superiore di altre librerie simili di più basso livello, e supporta come back-end le librerie [TensorFlow](https://www.tensorflow.org/), [Microsoft Cognitive Toolkit (CNTK)](https://docs.microsoft.com/en-us/cognitive-toolkit/) e [Theano](http://deeplearning.net/software/theano/). Progettata per permettere una **rapida prototipazione di deep neural network**, si concentra sulla **facilità d'uso, la modularità e l'estensibilità**. È stata sviluppata come parte del progetto di ricerca ONEIROS, e il suo autore principale è François Chollet, di Google. Nel 2017 il team di TensorFlow ha deciso di supportare Keras ufficialmente."
      ]
    },
    {
      "cell_type": "code",
      "metadata": {
        "id": "5hLaS0zUy-oY",
        "colab_type": "code",
        "colab": {}
      },
      "source": [
        "%tensorflow_version 2.x"
      ],
      "execution_count": 0,
      "outputs": []
    },
    {
      "cell_type": "code",
      "metadata": {
        "id": "LWPd9YvrEwCJ",
        "colab_type": "code",
        "colab": {}
      },
      "source": [
        "import numpy as np\n",
        "import pandas as pd\n",
        "\n",
        "import seaborn as sns\n",
        "import matplotlib.pyplot as plt\n",
        "%matplotlib inline\n",
        "\n",
        "import warnings\n",
        "warnings.filterwarnings('ignore')\n",
        "from sklearn.metrics import accuracy_score\n",
        "\n",
        "import tensorflow as tf\n",
        "from tensorflow.keras import regularizers\n",
        "from tensorflow.keras.models import Sequential\n",
        "from tensorflow.keras.layers import Dense, Dropout\n",
        "from tensorflow.keras.utils import to_categorical"
      ],
      "execution_count": 0,
      "outputs": []
    },
    {
      "cell_type": "markdown",
      "metadata": {
        "id": "gW6LzFdTPhFJ",
        "colab_type": "text"
      },
      "source": [
        "### Reuters Dataset\n",
        "\n",
        "Il dataset Reuters è uno dei molti dataset già presenti in Keras. Contiene un set di notizie, e la loro classificazione, pubblicate da Reuters nel 1986. Ci sono 46 categorie ed è tra i dataset più utilizzati per gli esempi sui dati testuali.\n",
        "\n",
        "Nel caricamento ci limiteremo ad un set di 10000 parole (le più frequenti), queste verranno codificate sotto forma di interi."
      ]
    },
    {
      "cell_type": "code",
      "metadata": {
        "id": "K2NgWtSCPjJk",
        "colab_type": "code",
        "colab": {}
      },
      "source": [
        "from tensorflow.keras.datasets import reuters\n",
        "\n",
        "(train_data, train_labels), (test_data, test_labels) = reuters.load_data(num_words=10000)"
      ],
      "execution_count": 0,
      "outputs": []
    },
    {
      "cell_type": "code",
      "metadata": {
        "id": "NoOQqduRQQA-",
        "colab_type": "code",
        "colab": {}
      },
      "source": [
        "print(\"La lunghezza del train set è pari a: \", len(train_data))\n",
        "print(\"La lunghezza del test set è pari a: \", len(test_data))\n"
      ],
      "execution_count": 0,
      "outputs": []
    },
    {
      "cell_type": "markdown",
      "metadata": {
        "id": "l4Ob_ZN_Q36n",
        "colab_type": "text"
      },
      "source": [
        "Vediamo come appare una notizia e la sua rispettiva classe di appartenenza."
      ]
    },
    {
      "cell_type": "code",
      "metadata": {
        "id": "ifzZwTIVRAGz",
        "colab_type": "code",
        "colab": {}
      },
      "source": [
        "print(train_data[0])\n",
        "print(train_labels[0])"
      ],
      "execution_count": 0,
      "outputs": []
    },
    {
      "cell_type": "markdown",
      "metadata": {
        "id": "KTGuBW9_RSwm",
        "colab_type": "text"
      },
      "source": [
        "Per gli esseri umani Keras fornisce anche il dizionario per decodificare i messaggi e leggerli in forma testuale. Per le labels consultare [questo link](https://martin-thoma.com/nlp-reuters/), comunque la 3 è *money-fx*."
      ]
    },
    {
      "cell_type": "code",
      "metadata": {
        "id": "dgT-FMtqRD2o",
        "colab_type": "code",
        "colab": {}
      },
      "source": [
        "word_index = reuters.get_word_index()\n",
        "reverse_word_index = dict([(value, key) for (key, value) in word_index.items()])\n",
        "# Note that our indices were offset by 3\n",
        "# because 0, 1 and 2 are reserved indices for \"padding\", \"start of sequence\", and \"unknown\".\n",
        "decoded_newswire = ' '.join([reverse_word_index.get(i - 3, '?') for i in train_data[0]])\n",
        "print(decoded_newswire)"
      ],
      "execution_count": 0,
      "outputs": []
    },
    {
      "cell_type": "markdown",
      "metadata": {
        "id": "MvIyw_5_S0yD",
        "colab_type": "text"
      },
      "source": [
        "### Preparazione del dato\n",
        "\n",
        "#### Vectorize\n",
        "\n",
        "Al momento ogni notizia è una sequenza di numeri di lunghezza diversa, noi vogliamo che ogni notizia sia un vettore di 10000 elementi che saranno:\n",
        "* pari ad 1 se il termine è presente\n",
        "* pari a 0 se il termine è assente\n",
        "\n",
        "Alla fine avremo una matrice di N x 10000 elementi."
      ]
    },
    {
      "cell_type": "code",
      "metadata": {
        "id": "gZKo85B5Rhil",
        "colab_type": "code",
        "colab": {}
      },
      "source": [
        "# Creiamo la funzione vectorize_sequences\n",
        "def vectorize_sequences(sequences, dimension=10000):\n",
        "    results = np.zeros((len(sequences), dimension))\n",
        "    for i, sequence in enumerate(sequences):\n",
        "        results[i, sequence] = 1.\n",
        "    return results"
      ],
      "execution_count": 0,
      "outputs": []
    },
    {
      "cell_type": "code",
      "metadata": {
        "id": "mbO11aguT7qd",
        "colab_type": "code",
        "colab": {}
      },
      "source": [
        "x_train = vectorize_sequences(train_data)\n",
        "x_test = vectorize_sequences(test_data)\n",
        "\n",
        "print(\"dimensioni train: \", x_train.shape)\n",
        "print(\"dimensioni test: \", x_test.shape)\n",
        "print(\"\\n\",\"prime 5 righe train: \", \"\\n\", x_train[:5])"
      ],
      "execution_count": 0,
      "outputs": []
    },
    {
      "cell_type": "markdown",
      "metadata": {
        "id": "ANoeESGcXawb",
        "colab_type": "text"
      },
      "source": [
        "#### One-Hot Encoding\n",
        "\n",
        "<br>\n",
        "\n",
        "![onehot](https://cdn.filestackcontent.com/DmN2NdYwSEyepOeMYn2V)\n",
        "\n",
        "<br>\n",
        "\n",
        "[Image Credits](https://hackernoon.com/what-is-one-hot-encoding-why-and-when-do-you-have-to-use-it-e3c6186d008f)\n",
        "\n",
        "<br>\n",
        "\n",
        "Il One-Hot encoding trasforma una variabile categoriale in N variabili numeriche binarie che indicano l'appartenenza o la non appartenenza ad una classe.\n",
        "\n",
        "Nel nostro caso abbiamo 46 categorie quindi ogni label del diventerà un vettore di 46 elementi, 45 zero ed 1 uno."
      ]
    },
    {
      "cell_type": "code",
      "metadata": {
        "id": "IxS0dBzoUJZ1",
        "colab_type": "code",
        "colab": {}
      },
      "source": [
        "one_hot_train_labels = to_categorical(train_labels)\n",
        "one_hot_test_labels = to_categorical(test_labels)\n",
        "\n",
        "print(\"one_hot_train_labels \", one_hot_train_labels.shape)\n",
        "print(\"one_hot_test_labels \", one_hot_test_labels.shape)\n",
        "\n",
        "print(\"\\n\",\"prime 5 labels: \", \"\\n\",one_hot_train_labels[:5])"
      ],
      "execution_count": 0,
      "outputs": []
    },
    {
      "cell_type": "markdown",
      "metadata": {
        "id": "ya8KzRT_ah5a",
        "colab_type": "text"
      },
      "source": [
        "#### Costruzione del Validation Set\n",
        "\n",
        "Per valutare la bontà del modello abbiamo bisogno di *isolare* dal training set un serto numero di osservazioni che andranno a far parte del set di validazione sul quele verrà validato il modello prima della previsione sul test set.\n",
        "\n",
        "Il nostro validation set saranno le prime 1000 notizie.\n",
        "\n",
        "Solitamente è sbagliato prendere le osservazioni in sequenza perchè il dataset potrebbe essere ordinato per classe (vedi Iris dataset), successivamente faremo anche il test estraendo il validation set in maniera casuale.\n",
        "\n",
        "<br>\n",
        "\n",
        "![validation](https://i.stack.imgur.com/pXAfX.png)\n",
        "\n",
        "<br>\n",
        "\n",
        "[Image Credits](https://datascience.stackexchange.com/questions/61467/clarification-on-train-test-and-val-and-how-to-use-implement-it)"
      ]
    },
    {
      "cell_type": "code",
      "metadata": {
        "id": "6_xPgfFsaHaw",
        "colab_type": "code",
        "colab": {}
      },
      "source": [
        "x_val = x_train[:1000]\n",
        "partial_x_train = x_train[1000:]\n",
        "y_val = one_hot_train_labels[:1000]\n",
        "partial_y_train = one_hot_train_labels[1000:]\n",
        "\n",
        "print(\"x_val \", x_val.shape)\n",
        "print(\"y_val \", y_val.shape)\n",
        "print(\"\\n\")\n",
        "print(\"partial_x_train \", partial_x_train.shape)\n",
        "print(\"partial_y_train \", partial_y_train.shape)"
      ],
      "execution_count": 0,
      "outputs": []
    },
    {
      "cell_type": "markdown",
      "metadata": {
        "id": "nQSknnSqdxML",
        "colab_type": "text"
      },
      "source": [
        "### Costruzione del modello\n",
        "\n",
        "<br>\n",
        "\n",
        "![DNN](https://www.researchgate.net/profile/Charlotte_Pelletier/publication/331525817/figure/fig2/AS:733072932745216@1551789615161/Example-of-fully-connected-neural-network.png)\n",
        "\n",
        "<br>\n",
        "\n",
        "[Image Credits](https://www.researchgate.net/figure/Example-of-fully-connected-neural-network_fig2_331525817)\n",
        "\n",
        "<br>\n",
        "\n",
        "Il modello che andremo a costruire è una Dense Neural Network, il tipo di rete neurale \"deep\" più semplice, la nostra rete avrà:\n",
        "* il livello di input che può prendere 10000 variabili alla volta (la numerosità di ogni osservazione nel train)\n",
        "* due livelli nascosti con funzione di attivazione **ReLU**. Non esiste un metodo per scegliere quanti livelli e quanti nodi per livello inserire, è consigliato partire da architetture semplici *shallow network* e renderle più complesse ottimizzando la previsione.\n",
        "* un livello di output con 46 nodi, uno per ogni classe, e funzione di attivazione **softmax** utilizzata per i classificatori multilabels.\n",
        "\n",
        "Una volta creata l'architettura il modello và compilato e useremo:\n",
        "* ottimizzatore **rmsprop** molto utilizzato nello studio delle sequenze\n",
        "* come funzione da ottimizzare (loss) **categorical_crossentropy** visto che è un classificatore multilabel\n",
        "* metrica **accuracy**\n",
        "\n",
        "*N.B. Non approfondiremo i concetti come nodo, layer, rete, funzioni di attivazione, batch, ... per motivi di tempi e obiettivi non sono parte del corso.*"
      ]
    },
    {
      "cell_type": "code",
      "metadata": {
        "id": "EFZcjvkkcsQH",
        "colab_type": "code",
        "colab": {}
      },
      "source": [
        "model = Sequential()\n",
        "model.add(Dense(64, activation='relu', input_shape=(10000,)))\n",
        "model.add(Dense(64, activation='relu'))\n",
        "model.add(Dense(46, activation='softmax'))\n",
        "model.summary()"
      ],
      "execution_count": 0,
      "outputs": []
    },
    {
      "cell_type": "code",
      "metadata": {
        "id": "ekXLJHsQiLjw",
        "colab_type": "code",
        "colab": {}
      },
      "source": [
        "model.compile(optimizer='rmsprop', loss='categorical_crossentropy', metrics=['accuracy'])"
      ],
      "execution_count": 0,
      "outputs": []
    },
    {
      "cell_type": "markdown",
      "metadata": {
        "id": "TeBJyjyNik3F",
        "colab_type": "text"
      },
      "source": [
        "Ora parte l'allenamento del modello, scegliamo la numerosità dei batch e le epoche di allenamento."
      ]
    },
    {
      "cell_type": "code",
      "metadata": {
        "id": "SGSsv3HGiiOD",
        "colab_type": "code",
        "colab": {}
      },
      "source": [
        "history = model.fit(partial_x_train,\n",
        "                    partial_y_train,\n",
        "                    epochs=20,\n",
        "                    batch_size=512,\n",
        "                    validation_data=(x_val, y_val))"
      ],
      "execution_count": 0,
      "outputs": []
    },
    {
      "cell_type": "markdown",
      "metadata": {
        "id": "6cXzW_9MjDPp",
        "colab_type": "text"
      },
      "source": [
        "#### Valutazione del modello\n",
        "\n",
        "Per valutare le prestazioni confrontiamo il loss e l'accuratezza sul training set e test set."
      ]
    },
    {
      "cell_type": "code",
      "metadata": {
        "id": "Fmf8Rjchi4-i",
        "colab_type": "code",
        "colab": {}
      },
      "source": [
        "plt.clf()\n",
        "loss = history.history['loss']\n",
        "val_loss = history.history['val_loss']\n",
        "epochs = range(1, len(loss) + 1)\n",
        "plt.plot(epochs, loss, 'bo', label='Training loss')\n",
        "plt.plot(epochs, val_loss, 'b', label='Validation loss')\n",
        "plt.title('Training and validation loss')\n",
        "plt.xlabel('Epochs')\n",
        "plt.ylabel('Loss')\n",
        "plt.legend()\n",
        "plt.show()"
      ],
      "execution_count": 0,
      "outputs": []
    },
    {
      "cell_type": "code",
      "metadata": {
        "id": "DxkD-YtKkT3S",
        "colab_type": "code",
        "colab": {}
      },
      "source": [
        "plt.clf()\n",
        "acc = history.history['acc']\n",
        "val_acc = history.history['val_acc']\n",
        "plt.plot(epochs, acc, 'bo', label='Training acc')\n",
        "plt.plot(epochs, val_acc, 'b', label='Validation acc')\n",
        "plt.title('Training and validation accuracy')\n",
        "plt.xlabel('Epochs')\n",
        "plt.ylabel('Accuracy')\n",
        "plt.legend()\n",
        "plt.show()"
      ],
      "execution_count": 0,
      "outputs": []
    },
    {
      "cell_type": "code",
      "metadata": {
        "id": "42YibJXAqonS",
        "colab_type": "code",
        "colab": {}
      },
      "source": [
        "results = model.evaluate(x_val, y_val)\n",
        "print(\"_\"*100)\n",
        "print(\"Test Loss and Accuracy\")\n",
        "print(\"results \", results)"
      ],
      "execution_count": 0,
      "outputs": []
    },
    {
      "cell_type": "markdown",
      "metadata": {
        "id": "7gsxL2Fnkuye",
        "colab_type": "text"
      },
      "source": [
        "Questo è un chiaro caso di **overfitting**.\n",
        "* La funzione di loss del train è più bassa della funzione di validation loss\n",
        "* L'accuratezza sul train è più alta di quella sul validation\n",
        "\n",
        "Il modello si adatta ai dati di train e non riesce a generalizzare. Proviamo a utilizzare un validation set estratto casualimente dal train set."
      ]
    },
    {
      "cell_type": "code",
      "metadata": {
        "id": "gl6YQFqykbSD",
        "colab_type": "code",
        "colab": {}
      },
      "source": [
        "history = model.fit(x_train,\n",
        "                    one_hot_train_labels,\n",
        "                    epochs=20,\n",
        "                    batch_size=512,\n",
        "                    validation_split=0.1)"
      ],
      "execution_count": 0,
      "outputs": []
    },
    {
      "cell_type": "code",
      "metadata": {
        "id": "UGgOKT8_lW1V",
        "colab_type": "code",
        "colab": {}
      },
      "source": [
        "plt.clf()\n",
        "loss = history.history['loss']\n",
        "val_loss = history.history['val_loss']\n",
        "epochs = range(1, len(loss) + 1)\n",
        "plt.plot(epochs, loss, 'bo', label='Training loss')\n",
        "plt.plot(epochs, val_loss, 'b', label='Validation loss')\n",
        "plt.title('Training and validation loss')\n",
        "plt.xlabel('Epochs')\n",
        "plt.ylabel('Loss')\n",
        "plt.legend()\n",
        "plt.show()"
      ],
      "execution_count": 0,
      "outputs": []
    },
    {
      "cell_type": "code",
      "metadata": {
        "id": "TxJ4PRw_lnHq",
        "colab_type": "code",
        "colab": {}
      },
      "source": [
        "plt.clf()\n",
        "acc = history.history['acc']\n",
        "val_acc = history.history['val_acc']\n",
        "plt.plot(epochs, acc, 'bo', label='Training acc')\n",
        "plt.plot(epochs, val_acc, 'b', label='Validation acc')\n",
        "plt.title('Training and validation accuracy')\n",
        "plt.xlabel('Epochs')\n",
        "plt.ylabel('Accuracy')\n",
        "plt.legend()\n",
        "plt.show()"
      ],
      "execution_count": 0,
      "outputs": []
    },
    {
      "cell_type": "markdown",
      "metadata": {
        "id": "IZjl9mmymU9Q",
        "colab_type": "text"
      },
      "source": [
        "La situazione è addirittura peggiorata, quindi per cercare di avere un modello più performante che non ricada nell'overfitting cerchiamo di agire sull'architettura:\n",
        "* aumentiamo i nodi per i livelli hidden\n",
        "* inseriamo dei livelli di **Dropout**, questa tecnica **spegne** alcune connessioni tra i nodi costruendo modelli forse meno precisi ma molto più generalizzabili, prevenendo l'overfitting\n",
        "* inseriamo la regolarizzazione *l1* che dà peso 0 alle variabili meno importanti così da fare una selezione delle stesse."
      ]
    },
    {
      "cell_type": "code",
      "metadata": {
        "id": "YDSV-fGYmUXS",
        "colab_type": "code",
        "colab": {}
      },
      "source": [
        "model = Sequential()\n",
        "model.add(Dense(256, kernel_regularizer=regularizers.l1(0.001), activation='relu', input_shape=(10000,)))\n",
        "model.add(Dropout(0.5))\n",
        "model.add(Dense(256, kernel_regularizer=regularizers.l1(0.001), activation='relu'))\n",
        "model.add(Dropout(0.5))\n",
        "model.add(Dense(46, activation='softmax'))\n",
        "model.summary()"
      ],
      "execution_count": 0,
      "outputs": []
    },
    {
      "cell_type": "code",
      "metadata": {
        "id": "KRLbB9s1nGCc",
        "colab_type": "code",
        "colab": {}
      },
      "source": [
        "model.compile(optimizer='rmsprop',loss='categorical_crossentropy', metrics=['accuracy'])"
      ],
      "execution_count": 0,
      "outputs": []
    },
    {
      "cell_type": "code",
      "metadata": {
        "id": "b9MLc9SKn2bs",
        "colab_type": "code",
        "colab": {}
      },
      "source": [
        "history = model.fit(partial_x_train, partial_y_train, epochs=20, batch_size=256, validation_data=(x_val, y_val))"
      ],
      "execution_count": 0,
      "outputs": []
    },
    {
      "cell_type": "code",
      "metadata": {
        "id": "mopNsHbIp4ZM",
        "colab_type": "code",
        "colab": {}
      },
      "source": [
        "plt.clf()\n",
        "loss = history.history['loss']\n",
        "val_loss = history.history['val_loss']\n",
        "epochs = range(1, len(loss) + 1)\n",
        "plt.plot(epochs, loss, 'bo', label='Training loss')\n",
        "plt.plot(epochs, val_loss, 'b', label='Validation loss')\n",
        "plt.title('Training and validation loss')\n",
        "plt.xlabel('Epochs')\n",
        "plt.ylabel('Loss')\n",
        "plt.legend()\n",
        "plt.show()"
      ],
      "execution_count": 0,
      "outputs": []
    },
    {
      "cell_type": "code",
      "metadata": {
        "id": "j26CIcJOp4Ws",
        "colab_type": "code",
        "colab": {}
      },
      "source": [
        "plt.clf()\n",
        "acc = history.history['acc']\n",
        "val_acc = history.history['val_acc']\n",
        "plt.plot(epochs, acc, 'bo', label='Training acc')\n",
        "plt.plot(epochs, val_acc, 'b', label='Validation acc')\n",
        "plt.title('Training and validation accuracy')\n",
        "plt.xlabel('Epochs')\n",
        "plt.ylabel('Accuracy')\n",
        "plt.legend()\n",
        "plt.show()"
      ],
      "execution_count": 0,
      "outputs": []
    },
    {
      "cell_type": "markdown",
      "metadata": {
        "id": "Qr6LSwhtqHoH",
        "colab_type": "text"
      },
      "source": [
        "Come si può vedere in questo caso il modello non và in overfitting e, seppur con fluttuazioni e rimanendo qualitativamente meno performante di quello di prima, ha ottime prestazioni sia sul train che sul validation set. Vediamo di seguito."
      ]
    },
    {
      "cell_type": "code",
      "metadata": {
        "id": "_u71k-b5qaS1",
        "colab_type": "code",
        "colab": {}
      },
      "source": [
        "results = model.evaluate(x_val, y_val)\n",
        "print(\"_\"*100)\n",
        "print(\"Test Loss and Accuracy\")\n",
        "print(\"results \", results)"
      ],
      "execution_count": 0,
      "outputs": []
    },
    {
      "cell_type": "markdown",
      "metadata": {
        "id": "FwsnFvL3q1So",
        "colab_type": "text"
      },
      "source": [
        "**Nota. Al momento il nostro modello è quello uscito dall'ultima epoca di allenamento ma Keras ci fornisce un parametro per utilizzare il \"migliore modello\" uscito dalla fase di train.**\n",
        "\n",
        "### Applicazione del modello sul test set\n",
        "\n",
        "Applichiamo il nostro modello sul test set e facciamo i confronti col dato reale."
      ]
    },
    {
      "cell_type": "code",
      "metadata": {
        "id": "LAFWS1s-rHqN",
        "colab_type": "code",
        "colab": {}
      },
      "source": [
        "predictions = model.predict(x_test)\n",
        "\n",
        "Nnotizia = 123\n",
        "\n",
        "# Ogni previsione è un vettore di 46 elementi con la probabilità di appartenere ad una classe:\n",
        "print(predictions[Nnotizia].shape)\n",
        "\n",
        "# La somma dei coefficienti deve essere 1:\n",
        "print(round(np.sum(predictions[Nnotizia])))\n",
        "\n",
        "# Le classi con maggiore pobabilità di appartenenza:\n",
        "print(\"Le classi con maggiore pobabilità di appartenenza: \", predictions[Nnotizia].argsort()[-3:][::-1])\n",
        "\n",
        "# La classe con maggiore probabilità:\n",
        "print(\"La classe prevista dal modello: \", np.argmax(predictions[Nnotizia]))\n",
        "print(\"La calsse reale: \",test_labels[Nnotizia])"
      ],
      "execution_count": 0,
      "outputs": []
    },
    {
      "cell_type": "markdown",
      "metadata": {
        "id": "t7jJaMHgtWT8",
        "colab_type": "text"
      },
      "source": [
        "Creaiamo un vettore di classi per calcolare l'accuratezza sul test del nostro modello per:\n",
        "* la Top 3\n",
        "* il risultato esatto"
      ]
    },
    {
      "cell_type": "code",
      "metadata": {
        "id": "nIed4TRTsXyM",
        "colab_type": "code",
        "colab": {}
      },
      "source": [
        "# Creaiamo la top 3 matrix\n",
        "\n",
        "Top3Preds = np.zeros((2246,3), dtype=int)\n",
        "# print(Top3Preds.shape)\n",
        "\n",
        "for SampleNum in range(predictions.shape[0]):\n",
        "    Top3Preds[SampleNum] = predictions[SampleNum].argsort()[-3:][::-1]\n",
        "\n",
        "# Creiamo la matrice di confusione\n",
        "\n",
        "FinalPreds = np.zeros((2246,1), dtype=int)\n",
        "# print(FinalPreds.shape)\n",
        "\n",
        "for SampleNum in range(Top3Preds.shape[0]):\n",
        "    if test_labels[SampleNum] in Top3Preds[SampleNum]:\n",
        "        FinalPreds[SampleNum] = 1\n",
        "        \n",
        "FinalPreds = pd.DataFrame(FinalPreds)\n",
        "NumTop3 = FinalPreds[0][FinalPreds[0] == 1].count()\n",
        "percentTop3 = round(100 *NumTop3 / FinalPreds.shape[0], 1)\n",
        "\n",
        "print('Percent of one from top 3 being correct ... ', percentTop3, '%')"
      ],
      "execution_count": 0,
      "outputs": []
    },
    {
      "cell_type": "code",
      "metadata": {
        "id": "4bJn5l9kuCkU",
        "colab_type": "code",
        "colab": {}
      },
      "source": [
        "TopPreds = np.zeros((2246,1), dtype=int)\n",
        "for SampleNum in range(predictions.shape[0]):\n",
        "  TopPreds[SampleNum] = np.argmax(predictions[SampleNum])\n",
        "\n",
        "print('Accuracy Score :',round(accuracy_score(test_labels, TopPreds)*100,1),\"%\")"
      ],
      "execution_count": 0,
      "outputs": []
    },
    {
      "cell_type": "markdown",
      "metadata": {
        "id": "PvkBtVkwwRaG",
        "colab_type": "text"
      },
      "source": [
        "Quindi la previsone \"secca\" del nostro modello è al **69.1%** di accuratezza mentre quella sui primi 3 argomenti più probabili aumenta di 10 punti percentuali.\n",
        "\n",
        "Ora se volete potete riprovare a:\n",
        "* creare un modello con validation set scelto casualmente\n",
        "* modificare le percentuali di dropout\n",
        "* provare gli altri regularizers (l2, l1_l2)"
      ]
    },
    {
      "cell_type": "markdown",
      "metadata": {
        "id": "XEBjHr2Tohus",
        "colab_type": "text"
      },
      "source": [
        "## Approfondimenti\n",
        "\n",
        "* [Regularization](https://towardsdatascience.com/l1-and-l2-regularization-methods-ce25e7fc831c)\n",
        "* [Dropout](https://machinelearningmastery.com/dropout-for-regularizing-deep-neural-networks/)\n",
        "* [Batch](https://stats.stackexchange.com/questions/153531/what-is-batch-size-in-neural-network)\n",
        "* [Documentazione di Keras sui layer](https://keras.io/layers/core/)\n",
        "* [Notebook su Kaggle](https://www.kaggle.com/drscarlat/reuters-document-classification-with-keras-tf)\n",
        "* [Confusion Matrix](https://www.geeksforgeeks.org/confusion-matrix-machine-learning/)"
      ]
    }
  ]
}