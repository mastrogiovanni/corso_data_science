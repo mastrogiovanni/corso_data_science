{
  "nbformat": 4,
  "nbformat_minor": 0,
  "metadata": {
    "colab": {
      "name": "04_clustering.ipynb",
      "provenance": [],
      "collapsed_sections": [],
      "authorship_tag": "ABX9TyOl+IS8gmlOz2vHfz2w3Toj",
      "include_colab_link": true
    },
    "kernelspec": {
      "name": "python3",
      "display_name": "Python 3"
    }
  },
  "cells": [
    {
      "cell_type": "markdown",
      "metadata": {
        "id": "view-in-github",
        "colab_type": "text"
      },
      "source": [
        "<a href=\"https://colab.research.google.com/github/nickprock/corso_data_science/blob/devs/machine_learning_pills/02_unsupervised/04_clustering.ipynb\" target=\"_parent\"><img src=\"https://colab.research.google.com/assets/colab-badge.svg\" alt=\"Open In Colab\"/></a>"
      ]
    },
    {
      "cell_type": "markdown",
      "metadata": {
        "id": "Ashzg6OklbF2",
        "colab_type": "text"
      },
      "source": [
        "# Clustering\n",
        "\n",
        "<br>\n",
        "\n",
        "![clustering](https://scikit-learn.org/stable/_images/sphx_glr_plot_linkage_comparison_0011.png)\n",
        "\n",
        "<br>\n",
        "\n",
        "[Image Credits](https://scikit-learn.org/stable/modules/clustering.html)\n",
        "\n",
        "<br>\n",
        "\n",
        "## Definizione\n",
        "\n",
        "Il clustering è una tecnica di machine learning non supervisonata, questo vuol dire che non esiste una variabile target su cui basare la bontà del modello.\n",
        "\n",
        "In statistica, il clustering è un insieme di tecniche di analisi multivariata dei dati volte alla selezione e raggruppamento di elementi omogenei in un insieme di dati. Le tecniche di clustering si basano su misure relative alla somiglianza tra gli elementi. In molti approcci questa similarità, o meglio, dissimilarità, è concepita in termini di distanza in uno spazio multidimensionale. La bontà delle analisi ottenute dagli algoritmi di clustering dipende molto dalla scelta della metrica, e quindi da come è calcolata la distanza. Gli algoritmi di clustering raggruppano gli elementi sulla base della loro distanza reciproca, e quindi l'appartenenza o meno ad un insieme dipende da quanto l'elemento preso in esame è distante dall'insieme stesso. [fonte: [Wikipedia](https://it.wikipedia.org/wiki/Clustering)]\n",
        "\n",
        "Per misurare la bontà del clustering esistono appositi indici che valutano l'omogeneità all'interno di un cluster e l'eterogeneità tra i gruppi. Con l'aiuto di queste tecniche siamo noi a decidere cosa i vari gruppi rappresentano.\n",
        "\n",
        "I problemi più frequenti per cui viene utilizzato l'approccio non supervisionato, il clustering in particolare, sono:\n",
        "* Determinare se i dati presentano relazioni significative nella forma dei concetti\n",
        "* Valutare le prestazioni di un modello di apprendimento supervisionato\n",
        "* Determinare l'insieme ideale degli attributi di input per l'apprendimento supervisionato\n",
        "* Outlier detection\n",
        "\n",
        "## Obiettivo del notebook\n",
        "\n",
        "Il notebook ha come obiettivo quello di condurre una **customer segmentation** utilizzando diversi algoritmi di clustering, in particolare:\n",
        "* K-Means\n",
        "* Clustering Gerarchico\n",
        "* DBSCAN\n"
      ]
    },
    {
      "cell_type": "code",
      "metadata": {
        "id": "vGZfIlOnQzVY",
        "colab_type": "code",
        "colab": {}
      },
      "source": [
        "import numpy as np # linear algebra\n",
        "import pandas as pd # data processing, CSV file I/O (e.g. pd.read_csv)\n",
        "import matplotlib.pyplot as plt \n",
        "import seaborn as sns \n",
        "plt.style.use('fivethirtyeight')\n",
        "import chart_studio.plotly as py\n",
        "import plotly.graph_objs as go\n",
        "import warnings\n",
        "import os\n",
        "warnings.filterwarnings(\"ignore\")"
      ],
      "execution_count": 0,
      "outputs": []
    },
    {
      "cell_type": "markdown",
      "metadata": {
        "id": "fAMvhhdApjdC",
        "colab_type": "text"
      },
      "source": [
        "### Dataset\n",
        "\n",
        "Il dataset *Mall Customer* contiene i dati di 200 clienti di un centro commerciale, contiene:\n",
        "* ID cliente\n",
        "* sesso\n",
        "* età\n",
        "* reddito annuo\n",
        "* indicatore di spesa (spending score) compreso tra 1-100.\n",
        "\n",
        "### Caricamento del dataset\n",
        "\n",
        "***Se stai usando il notebook su Colab esegui le prossime due celle, altrimenenti vai direttamente al caricamento con *read_csv* inserendo il path del tuo file *Mall_Customer.csv***"
      ]
    },
    {
      "cell_type": "code",
      "metadata": {
        "id": "okYuc7AcsiM_",
        "colab_type": "code",
        "colab": {}
      },
      "source": [
        "from pydrive.auth import GoogleAuth\n",
        "from pydrive.drive import GoogleDrive\n",
        "from google.colab import auth\n",
        "from oauth2client.client import GoogleCredentials\n",
        "\n",
        "# Authenticate and create the PyDrive client.\n",
        "auth.authenticate_user()\n",
        "gauth = GoogleAuth()\n",
        "gauth.credentials = GoogleCredentials.get_application_default()\n",
        "drive = GoogleDrive(gauth)"
      ],
      "execution_count": 0,
      "outputs": []
    },
    {
      "cell_type": "code",
      "metadata": {
        "id": "olez5-h5sqVO",
        "colab_type": "code",
        "colab": {}
      },
      "source": [
        "link = 'YOUR LINK'\n",
        "fluff, id = link.split('=')\n",
        "\n",
        "downloaded = drive.CreateFile({'id':id}) \n",
        "downloaded.GetContentFile('Mall_Customer.csv')"
      ],
      "execution_count": 0,
      "outputs": []
    },
    {
      "cell_type": "code",
      "metadata": {
        "id": "q0qEksHp1Ddy",
        "colab_type": "code",
        "colab": {}
      },
      "source": [
        "df = pd.read_csv(\"Mall_Customer.csv\")\n",
        "df.head()"
      ],
      "execution_count": 0,
      "outputs": []
    },
    {
      "cell_type": "markdown",
      "metadata": {
        "id": "5-y5h32D1tCL",
        "colab_type": "text"
      },
      "source": [
        "### Analisi Grafica\n",
        "\n",
        "La prima cosa da fare è un'analisi grafica per avere un primo impatto del fenomeno."
      ]
    },
    {
      "cell_type": "code",
      "metadata": {
        "id": "P-y1EZke10VU",
        "colab_type": "code",
        "colab": {}
      },
      "source": [
        "plt.figure(1 , figsize = (25 , 8))\n",
        "n = 0 \n",
        "for x in ['Age' , 'Annual Income (k$)' , 'Spending Score (1-100)']:\n",
        "    n += 1\n",
        "    plt.subplot(1 , 3 , n)\n",
        "    plt.subplots_adjust(hspace =0.5 , wspace = 0.5)\n",
        "    sns.distplot(df[x] , bins = 20)\n",
        "    plt.title('Distplot of {}'.format(x))\n",
        "plt.show()"
      ],
      "execution_count": 0,
      "outputs": []
    },
    {
      "cell_type": "markdown",
      "metadata": {
        "id": "uutBxePb3lrH",
        "colab_type": "text"
      },
      "source": [
        "Dai grafici della distribuzione per *Reddito Annuo* e *Classi d'età* si evince che:\n",
        "* La maggior parte delle persone ha un reddito tra 50K - 75K\n",
        "* La fascia di reddito più bassa è intorno a 20K\n",
        "* La fascia d'età più presente nell'ipermercato è intorno ai 35 anni\n",
        "* I giovani frequentano più degli anziani\n",
        "* L'indice di spesa è molto simmetrico intorno ai 50K\n",
        "* Tutti i fenomeni possono essere approssimati da una distribuzione gaussiana\n",
        "\n",
        "La distribuzione per genere mostra che i clienti sono quasi equidistribuiti per genere, con leggera prevalenza delle donne.\n",
        "\n",
        "Infine il **Pairplot** ci mostra come il centro commerciale sia frequentato soprattutto da clienti con la fascia di reddito suddetta ma si rivolga anche a chi spende molto, soprattutto tra i più giovani."
      ]
    },
    {
      "cell_type": "code",
      "metadata": {
        "id": "IZe9-Kg54lC7",
        "colab_type": "code",
        "colab": {}
      },
      "source": [
        "labels = ['Female', 'Male']\n",
        "size = df['Genre'].value_counts()\n",
        "colors = ['lightgreen', 'orange']\n",
        "explode = [0, 0.1]\n",
        "\n",
        "plt.rcParams['figure.figsize'] = (9, 9)\n",
        "plt.pie(size, colors = colors, explode = explode, labels = labels, shadow = True, autopct = '%.2f%%')\n",
        "plt.title('Gender', fontsize = 20)\n",
        "plt.axis('off')\n",
        "plt.legend()\n",
        "plt.show()"
      ],
      "execution_count": 0,
      "outputs": []
    },
    {
      "cell_type": "code",
      "metadata": {
        "id": "827_fj5340TU",
        "colab_type": "code",
        "colab": {}
      },
      "source": [
        "sns.pairplot(df.drop(\"CustomerID\", axis=1), height=3.2)\n",
        "plt.title('Pairplot for the Data', fontsize= 15)\n",
        "plt.show()"
      ],
      "execution_count": 0,
      "outputs": []
    },
    {
      "cell_type": "markdown",
      "metadata": {
        "id": "2R0T41Id-7ma",
        "colab_type": "text"
      },
      "source": [
        "### K-Means\n",
        "L'algoritmo k-means (Lloyd, 1982) è una tecnica di clusterizzazione semplice ma efficace, è probabilmente la tecnica più utilizzata per fare clustering.\n",
        "Vediamo i passi dell'algoritmo:\n",
        "1. Scegliere il valore K, ovvero il numero totale di cluster da determinare\n",
        "2. Scegliere in modo casuale K osservazioni nel dataset, saranno i primi centroidi dei nostri cluster. **Questa scelta casuale influenza il numero di passi chè l'algoritmo compie per convergere.**\n",
        "3. Utilizzare una distanza (solitamente euclidea) per assegnare le restanti osservazioni al centroide più vicino\n",
        "4. Utilizzare le osservazioni in ogni cluster per calcolare la media (il baricentro) dello stesso. Ogni baricentro sarà il nuovo centroide del cluster.\n",
        "5. Se i nuovi centroidi sono identici ai precedenti il processo termina altrimenti si ripetono i punti da 3 a 5.\n",
        "\n",
        "Come abbiamo visto il numero di cluster deve essere definito a priori, per farlo si può utilizzare il **metodo di Elbow**.\n",
        "\n",
        "Questo metodo, non completamente robusto, anzi su Wikipedia è definito ambiguo, si basa sulla varianza spiegata, ovvero viene scelto il numero di cluster che dà l'incremento di varianza spiegata maggiore rispetto al precedente.\n",
        "\n",
        "<br>\n",
        "\n",
        "![elbow](https://upload.wikimedia.org/wikipedia/commons/c/cd/DataClustering_ElbowCriterion.JPG)\n",
        "\n",
        "<br>\n",
        "\n",
        "[Image Credits](https://en.wikipedia.org/wiki/Elbow_method_(clustering))\n",
        "\n",
        "<br>\n",
        "\n",
        "#### Scelta del numero dei cluster\n",
        "\n",
        "Per scegliere il numero dei cluster utilizzeremo sempre il metodo di Elbow ma sull'inierzia. Questa è \"il contrario\" della varianza quindi và minimizzata."
      ]
    },
    {
      "cell_type": "code",
      "metadata": {
        "id": "1XDuCMJP6CeO",
        "colab_type": "code",
        "colab": {}
      },
      "source": [
        "from sklearn.cluster import KMeans\n",
        "\n",
        "X = df[['Age' , 'Annual Income (k$)' ,'Spending Score (1-100)']].values\n",
        "inertia = []\n",
        "for n in range(1 , 11):\n",
        "    algorithm = (KMeans(n_clusters = n ,init='k-means++', n_init = 10 ,max_iter=300, \n",
        "                        tol=0.0001,  random_state= 111  , algorithm='elkan') )\n",
        "    algorithm.fit(X)\n",
        "    inertia.append(algorithm.inertia_)"
      ],
      "execution_count": 0,
      "outputs": []
    },
    {
      "cell_type": "code",
      "metadata": {
        "id": "nSRXKOuDouxj",
        "colab_type": "code",
        "colab": {}
      },
      "source": [
        "plt.figure(1 , figsize = (18 ,8))\n",
        "plt.plot(np.arange(1 , 11) , inertia , 'o')\n",
        "plt.plot(np.arange(1 , 11) , inertia , '-' , alpha = 0.5)\n",
        "plt.xlabel('Number of Clusters') , plt.ylabel('Inertia')\n",
        "plt.title('Elbow Method')\n",
        "plt.show()"
      ],
      "execution_count": 0,
      "outputs": []
    },
    {
      "cell_type": "markdown",
      "metadata": {
        "id": "aUPbSvEGwGW6",
        "colab_type": "text"
      },
      "source": [
        "#### Applicazione dell'algoritmo\n",
        "\n",
        "Di seguito impostiamo i parametri dell'algoritmo su Scikit-learn:\n",
        "* n_clusters: il numero di cluster da creare\n",
        "* init: il metodo di inizializzazione. *k-means++* seleziona i punti alla prima iterazione in modo da accelerare la convergenza dell'algoritmo\n",
        "* max_iter: il numero di iterazioni prima che l'algortimo si fermi se non arrivasse a convergenza\n",
        "* tol: la tolleranza per dichiarare la convergenza del K-Means e bloccare le iterazioni\n",
        "* random_state: il seed per la replicabilità dei risultati\n",
        "* algorithm: scegliamo *elkan* perchè è più performante con i dati densi"
      ]
    },
    {
      "cell_type": "code",
      "metadata": {
        "id": "8oWRQfFSq_Cj",
        "colab_type": "code",
        "colab": {}
      },
      "source": [
        "algorithm = KMeans(n_clusters = 6 ,init='k-means++', n_init = 10 ,max_iter=300, \n",
        "                        tol=0.0001,  random_state= 42  , algorithm='elkan')\n",
        "algorithm.fit(X)\n",
        "labels = algorithm.labels_\n",
        "#centroids = algorithm.cluster_centers_"
      ],
      "execution_count": 0,
      "outputs": []
    },
    {
      "cell_type": "markdown",
      "metadata": {
        "id": "-x6SUAhsvycX",
        "colab_type": "text"
      },
      "source": [
        "#### Grafico dei risultati"
      ]
    },
    {
      "cell_type": "code",
      "metadata": {
        "id": "RSGyJL_HrKJ4",
        "colab_type": "code",
        "colab": {}
      },
      "source": [
        "df['label'] =  labels\n",
        "trace1 = go.Scatter3d(\n",
        "    x= df['Age'],\n",
        "    y= df['Spending Score (1-100)'],\n",
        "    z= df['Annual Income (k$)'],\n",
        "    mode='markers',\n",
        "     marker=dict(\n",
        "        color = df['label'], \n",
        "        size= 20,\n",
        "        line=dict(\n",
        "            color= df['label'],\n",
        "            width= 12\n",
        "        ),\n",
        "        opacity=0.8\n",
        "     )\n",
        ")\n",
        "data = [trace1]\n",
        "layout = go.Layout(\n",
        "    title= 'Clusters',\n",
        "    scene = dict(\n",
        "            xaxis = dict(title  = 'Age'),\n",
        "            yaxis = dict(title  = 'Spending Score'),\n",
        "            zaxis = dict(title  = 'Annual Income')\n",
        "        )\n",
        ")\n",
        "fig = go.Figure(data=data, layout=layout)\n",
        "fig.show(render=\"notebook\")"
      ],
      "execution_count": 0,
      "outputs": []
    },
    {
      "cell_type": "markdown",
      "metadata": {
        "id": "w2eE_HhqImXW",
        "colab_type": "text"
      },
      "source": [
        "### Clustering Gerarchico\n",
        "\n",
        "Il clustering gerarchico è un approccio di clustering che mira a costruire una gerarchia di cluster. Le strategie per il clustering gerarchico sono tipicamente di due tipi:\n",
        "* **Agglomerativo**: alla prima iterazione ogni osservazione è un cluster e ad ogni passo vengono aggregati in gruppi sempre più numerosi secondo una distanza\n",
        "* **Divisivo**: si parte da un solo cluster e si suddividono le osservazioni ad ogni iterazione\n",
        "\n",
        "Per decidere quali cluster devono essere combinati è necessario definire una misura di similarità (o dissimilarità) tra cluster. Nella maggior parte dei metodi di clustering gerarchico si fa uso di metriche specifiche che quantificano la distanza tra coppie di elementi.\n",
        "\n",
        "A differenza del K-Means non ci serve un numero di cluster definito a priori.\n",
        "\n",
        "<br>\n",
        "\n",
        "![HClus](https://new.pharmacelera.com/wp-content/uploads/2019/08/clusters-1024x530.png)\n",
        "\n",
        "<br>\n",
        "\n",
        "[Image Credits](https://new.pharmacelera.com/science/clustering-methods-big-library-screening/)\n",
        "\n",
        "<br>\n",
        "\n",
        "#### Applicazione dell'algoritmo\n",
        "\n",
        "Impostiamo l'algoritmo su Scikit-learn, useremo il metodo *agglomerativo*:\n",
        "* n_clusters: il numero di cluster. Può essere non definito ma bisogna dare la metrica di similarità.\n",
        "* distance_threshold: la metrica. Imposteremo a 0, quindi *full_tree*\n"
      ]
    },
    {
      "cell_type": "code",
      "metadata": {
        "id": "TXcp1i3dMevY",
        "colab_type": "code",
        "colab": {}
      },
      "source": [
        "from sklearn.cluster import AgglomerativeClustering\n",
        "\n",
        "AggC = AgglomerativeClustering(n_clusters = None, distance_threshold=0)\n",
        "AggC.fit(X)\n",
        "\n",
        "labels = AggC.labels_"
      ],
      "execution_count": 0,
      "outputs": []
    },
    {
      "cell_type": "markdown",
      "metadata": {
        "id": "RpVClELgM64v",
        "colab_type": "text"
      },
      "source": [
        "#### Grafico dei risultati\n",
        "\n",
        "Per vedere i risultati del clustering gerarchico il grafico è il dendrogramma.\n",
        "\n",
        "Nell'[esempio ufficiale di scikit-learn](https://scikit-learn.org/stable/auto_examples/cluster/plot_agglomerative_dendrogram.html#sphx-glr-auto-examples-cluster-plot-agglomerative-dendrogram-py) troviamo una funzione per costruire un buon dendrogramma."
      ]
    },
    {
      "cell_type": "code",
      "metadata": {
        "id": "vm5CHxtJOEsf",
        "colab_type": "code",
        "colab": {}
      },
      "source": [
        "from scipy.cluster.hierarchy import dendrogram\n",
        "\n",
        "def plot_dendrogram(model, **kwargs):\n",
        "    # Create linkage matrix and then plot the dendrogram\n",
        "\n",
        "    # create the counts of samples under each node\n",
        "    counts = np.zeros(model.children_.shape[0])\n",
        "    n_samples = len(model.labels_)\n",
        "    for i, merge in enumerate(model.children_):\n",
        "        current_count = 0\n",
        "        for child_idx in merge:\n",
        "            if child_idx < n_samples:\n",
        "                current_count += 1  # leaf node\n",
        "            else:\n",
        "                current_count += counts[child_idx - n_samples]\n",
        "        counts[i] = current_count\n",
        "\n",
        "    linkage_matrix = np.column_stack([model.children_, model.distances_,\n",
        "                                      counts]).astype(float)\n",
        "\n",
        "    # Plot the corresponding dendrogram\n",
        "    dendrogram(linkage_matrix, **kwargs)"
      ],
      "execution_count": 0,
      "outputs": []
    },
    {
      "cell_type": "markdown",
      "metadata": {
        "id": "G-YAAGT4PTzP",
        "colab_type": "text"
      },
      "source": [
        "Vediamo che scendendo a 4 livelli vengono formati tre cluster distinti."
      ]
    },
    {
      "cell_type": "code",
      "metadata": {
        "id": "Ebi1oIIgM_Cn",
        "colab_type": "code",
        "colab": {}
      },
      "source": [
        "plt.title('Hierarchical Clustering Dendrogram')\n",
        "# plot the top three levels of the dendrogram\n",
        "plot_dendrogram(AggC, truncate_mode='level', p=4)\n",
        "plt.xlabel(\"Numero di osservazioni per nodo.\")\n",
        "plt.show()"
      ],
      "execution_count": 0,
      "outputs": []
    },
    {
      "cell_type": "markdown",
      "metadata": {
        "id": "sftoPYavIf2o",
        "colab_type": "text"
      },
      "source": [
        "### DBSCAN\n",
        "\n",
        "<br>\n",
        "\n",
        "![DBSCAN](https://upload.wikimedia.org/wikipedia/commons/thumb/a/af/DBSCAN-Illustration.svg/400px-DBSCAN-Illustration.svg.png)\n",
        "\n",
        "<br>\n",
        "\n",
        "[Image Credits](https://it.wikipedia.org/wiki/Dbscan)\n",
        "\n",
        "<br>\n",
        "\n",
        "Il **DBSCAN** è un lagoritmo basato sulla densità e connette regioni di punti con densità sufficientemente alta.\n",
        "\n",
        "Necessita di due parametri: ε (eps) e del numero minimo di punti richiesti per formare un cluster (minPts). Si comincia con un punto casuale che non è stato ancora visitato. Viene calcolato il suo ε-vicinato e se contiene un numero sufficiente di punti viene creato un nuovo cluster. Se ciò non avviene il punto viene etichettato come rumore e successivamente potrebbe essere ritrovato in un ε-vicinato sufficientemente grande riconducibile ad un punto differente entrando a far parte di un cluster.\n",
        "\n",
        "Se un punto è associato ad un cluster anche i punti del suo ε-vicinato sono parte del cluster. Conseguentemente tutti i punti trovati all'interno del suo ε-vicinato sono aggiunti al cluster, così come i loro ε-vicinati. Questo processo continua fino a quando il cluster viene completato. Il processo continua fino a quando non sono stati visitati tutti i punti.\n",
        "\n",
        "Vantaggi:\n",
        "* non richiede di conoscere il numero di cluster a priori\n",
        "* può trovare cluster di forme arbitrarie.\n",
        "* possiede la nozione di rumore\n",
        "* richiede soltanto due parametri ed è per lo più insensibile all'ordine dei punti nel database\n",
        "\n",
        "Svantaggi:\n",
        "* La qualità del clustering generato da DBSCAN dipende dalla sua misura della distanza. ***Maledizione della dimensionalità***\n",
        "* Non è in grado di classificare insiemi di dati con grandi differenze nelle densità (dati sparsi)\n",
        "\n",
        "[Fonte: DBSCAN](https://en.wikipedia.org/wiki/DBSCAN)\n",
        "\n",
        "#### Applicazione dell'algoritmo\n",
        "\n",
        "Impostiamo l'algoritmo su Scikit-learn:\n",
        "* eps: la massima distanza tra due campioni per essere considerati vicini\n",
        "* min_samples: il numero minimo di osservazioni per essere considerato un cluster core\n",
        "* algorithm: algoritmo usato dal KNN per formare i cluster"
      ]
    },
    {
      "cell_type": "code",
      "metadata": {
        "id": "6L-Tc_CtIiP6",
        "colab_type": "code",
        "colab": {}
      },
      "source": [
        "from sklearn.cluster import DBSCAN\n",
        "from sklearn.preprocessing import StandardScaler\n",
        "\n",
        "X_scaled = StandardScaler().fit_transform(X)\n",
        "\n",
        "dbscan = DBSCAN(eps=0.5, min_samples = 10, algorithm = \"ball_tree\")\n",
        "dbscan.fit(X_scaled)\n",
        "labels = dbscan.labels_\n",
        "\n",
        "# si usa questo metodo perchè i -1 sono \"noise\" data\n",
        "print(\"Il numero di cluster è pari a: \", len(set(labels)) - (1 if -1 in labels else 0))"
      ],
      "execution_count": 0,
      "outputs": []
    },
    {
      "cell_type": "markdown",
      "metadata": {
        "id": "9JGx7N7oIH-k",
        "colab_type": "text"
      },
      "source": [
        "#### Grafico dei risultati"
      ]
    },
    {
      "cell_type": "code",
      "metadata": {
        "id": "d6Zv3pNvzH9d",
        "colab_type": "code",
        "colab": {}
      },
      "source": [
        "df['label'] =  labels\n",
        "trace1 = go.Scatter3d(\n",
        "    x= df['Age'],\n",
        "    y= df['Spending Score (1-100)'],\n",
        "    z= df['Annual Income (k$)'],\n",
        "    mode='markers',\n",
        "     marker=dict(\n",
        "        color = df['label'], \n",
        "        size= 20,\n",
        "        line=dict(\n",
        "            color= df['label'],\n",
        "            width= 12\n",
        "        ),\n",
        "        opacity=0.8\n",
        "     )\n",
        ")\n",
        "data = [trace1]\n",
        "layout = go.Layout(\n",
        "    title= 'Clusters',\n",
        "    scene = dict(\n",
        "            xaxis = dict(title  = 'Age'),\n",
        "            yaxis = dict(title  = 'Spending Score'),\n",
        "            zaxis = dict(title  = 'Annual Income')\n",
        "        )\n",
        ")\n",
        "fig = go.Figure(data=data, layout=layout)\n",
        "fig.show(render=\"notebook\")"
      ],
      "execution_count": 0,
      "outputs": []
    },
    {
      "cell_type": "markdown",
      "metadata": {
        "id": "7OY5w5n8wqAQ",
        "colab_type": "text"
      },
      "source": [
        "### Link Utili\n",
        "\n",
        "[Customer Segmentation Kaggle](https://www.kaggle.com/kushal1996/customer-segmentation-k-means-analysis)\n",
        "\n",
        "[Documentazione K-Means](https://scikit-learn.org/stable/modules/generated/sklearn.cluster.KMeans.html)\n",
        "\n",
        "[Documentazione DBSCAN](https://scikit-learn.org/stable/modules/generated/sklearn.cluster.DBSCAN.html)\n",
        "\n",
        "[k-means++](https://en.wikipedia.org/wiki/K-means%2B%2B)\n",
        "\n",
        "[Plotly](https://plot.ly/)\n",
        "\n",
        "[Maledizione della dimensionalità](https://en.wikipedia.org/wiki/Curse_of_dimensionality#Distance_functions)\n",
        "\n",
        "[Algoritmo KNN](https://en.wikipedia.org/wiki/K-nearest_neighbors_algorithm)\n",
        "\n",
        "[Silhoutte Score](https://scikit-learn.org/stable/modules/generated/sklearn.metrics.silhouette_score.html)"
      ]
    }
  ]
}