{
  "nbformat": 4,
  "nbformat_minor": 0,
  "metadata": {
    "colab": {
      "name": "05_association_rules.ipynb",
      "provenance": [],
      "collapsed_sections": [],
      "authorship_tag": "ABX9TyPlId/98jiZCHo0B+/VM4bg",
      "include_colab_link": true
    },
    "kernelspec": {
      "name": "python3",
      "display_name": "Python 3"
    }
  },
  "cells": [
    {
      "cell_type": "markdown",
      "metadata": {
        "id": "view-in-github",
        "colab_type": "text"
      },
      "source": [
        "<a href=\"https://colab.research.google.com/github/nickprock/corso_data_science/blob/devs/machine_learning_pills/02_unsupervised/05_association_rules.ipynb\" target=\"_parent\"><img src=\"https://colab.research.google.com/assets/colab-badge.svg\" alt=\"Open In Colab\"/></a>"
      ]
    },
    {
      "cell_type": "markdown",
      "metadata": {
        "id": "KUZZ9V-rHjeH",
        "colab_type": "text"
      },
      "source": [
        "## Association Rules\n",
        "\n",
        "<br>\n",
        "\n",
        "![MBA](https://miro.medium.com/max/5760/1*DHfQvlMVBaJCHpYmj1kmCw.png)\n",
        "\n",
        "<br>\n",
        "\n",
        "[Image Credits](https://towardsdatascience.com/market-basket-analysis-978ac064d8c6)\n",
        "\n",
        "<br>\n",
        "\n",
        "### Definizione\n",
        "\n",
        "Una regola associativa collega tra di loro gli attributi di un\n",
        "insieme di dati.\n",
        "\n",
        "Ha la forma: Corpo → Testa [supporto,confidenza] dove:\n",
        "* Corpo, Testa sono itemset\n",
        "* supporto, confidenza sono valori percentuali\n",
        "\n",
        "Le regole associative creano \"regole\" del tipo **IF - THEN** ad esempio:\n",
        "* il 75% dei clienti che ha comprato la mela ha comprato anche la birra\n",
        "* **IF** mela **THEN** birra\n",
        "\n",
        "Nell'individuazione delle regole entrano in gioco alcune misure. La prima è la ***frequenza empirica*** ovvero il numero di volte in cui si presenta un Item sul numero di transazioni. Altre misure verranno descritte di seguito.\n",
        "\n",
        "**N.B. Nelle nostre immagini la mela è detta *CORPO* della regola, la birra viene detta *TESTA***\n",
        "\n",
        "\n",
        "#### Supporto\n",
        "\n",
        "Indica la frazione delle transazioni che contiene gli item di interesse. Ad esempio la mela compare nel 50% delle transazioni. La birra nel 75% delle transazioni.\n",
        "\n",
        "<br>\n",
        "\n",
        "![Supporto](https://annalyzin.files.wordpress.com/2016/04/association-rule-support-table.png?w=503&h=447)\n",
        "\n",
        "<br>\n",
        "\n",
        "[Image Credits](https://www.kaggle.com/ashishpatel26/association-rule-mining-for-lastfm-using-python)\n",
        "\n",
        "<br>\n",
        "\n",
        "Il primo step di un problema da risolvere con le regole associative è trovare gli item che soddisfino una soglia di confidenza minima.\n",
        "\n",
        "#### Confidenza\n",
        "\n",
        "La frazione delle transazioni in cui compare l'oggetto *CORPO* contiene anche l'oggetto *TESTA*. Ad esempio su quattro transazioni in cui compare la mela in 3 compare **ANCHE** la birra. Confidenza = 75%\n",
        "\n",
        "<br>\n",
        "\n",
        "![Confidenza](https://annalyzin.files.wordpress.com/2016/03/association-rule-confidence-eqn.png?w=527&h=77)\n",
        "\n",
        "<br>\n",
        "\n",
        "[Image Credits](https://www.kaggle.com/ashishpatel26/association-rule-mining-for-lastfm-using-python)\n",
        "\n",
        "<br>\n",
        "\n",
        "Dopo aver generato tutti gli itemset frequenti, vanno identificate le regole forti, vale a dire quelle regole che superano una soglia di confidenza fissata.\n",
        "\n",
        "Se l’itemset è frequente, si possono quindi ricavare le regole, ma solo alcune saranno forti.\n",
        "Non sempre le regole forti sono significative e potenzialmente interessanti.\n",
        "\n",
        "#### Lift\n",
        "\n",
        "Per valutare la significatività di una regola si usa l’indice di lift:\n",
        "* Valori di Lift > 1 indicano che la regola è più efficace nel predire la probabilità che la testa sia contenuta in una generica transazione, di quanto lo sia la sua frequenza.\n",
        "* Valori di Lift < 1 indicano che la regola che nega la testa, è più efficace della regola iniziale.\n",
        "\n",
        "<br>\n",
        "\n",
        "![Lift](https://annalyzin.files.wordpress.com/2016/03/association-rule-lift-eqn.png?w=566&h=80)\n",
        "\n",
        "<br>\n",
        "\n",
        "[Image Credits](https://www.kaggle.com/ashishpatel26/association-rule-mining-for-lastfm-using-python)\n",
        "\n",
        "<br>\n",
        "\n",
        "### Alcuni problemi che si possono riscontrare\n",
        "\n",
        "* Bassa confidenza: troppe regole e molte di queste poco interessanti perchè dettate da casualità\n",
        "* Alta confidenza: regole molto forti che portano al loro interno ridondanza.\n",
        "\n",
        "### Obiettivo del notebook\n",
        "\n",
        "Questo notebook è basato sul kernel kaggle [Bakery Business Model: Association Rules ](https://www.kaggle.com/bbhatt001/bakery-business-model-association-rules). L'obiettivo è quello di capire quale è il prodotto che si vende di più in questa Bakery di Edinburgo applicando l'algoritmo [Apriori](https://en.wikipedia.org/wiki/Apriori_algorithm)."
      ]
    },
    {
      "cell_type": "markdown",
      "metadata": {
        "id": "BkQuQp0vK039",
        "colab_type": "text"
      },
      "source": [
        "### Importare le librerie"
      ]
    },
    {
      "cell_type": "code",
      "metadata": {
        "id": "xgobLKUAGl_D",
        "colab_type": "code",
        "colab": {}
      },
      "source": [
        "import numpy as np \n",
        "import pandas as pd \n",
        "%matplotlib inline\n",
        "import matplotlib.pyplot as plt\n",
        "import seaborn as sns\n",
        "from mlxtend.preprocessing import TransactionEncoder\n",
        "from mlxtend.frequent_patterns import apriori, association_rules\n",
        "import networkx as nx\n",
        "import warnings\n",
        "warnings.filterwarnings('ignore')"
      ],
      "execution_count": 0,
      "outputs": []
    },
    {
      "cell_type": "markdown",
      "metadata": {
        "id": "NixYof_gLWet",
        "colab_type": "text"
      },
      "source": [
        "### Dataset\n",
        "\n"
      ]
    },
    {
      "cell_type": "code",
      "metadata": {
        "id": "JEuuFKUKK321",
        "colab_type": "code",
        "colab": {}
      },
      "source": [
        "from pydrive.auth import GoogleAuth\n",
        "from pydrive.drive import GoogleDrive\n",
        "from google.colab import auth\n",
        "from oauth2client.client import GoogleCredentials\n",
        "\n",
        "# Authenticate and create the PyDrive client.\n",
        "auth.authenticate_user()\n",
        "gauth = GoogleAuth()\n",
        "gauth.credentials = GoogleCredentials.get_application_default()\n",
        "drive = GoogleDrive(gauth)"
      ],
      "execution_count": 0,
      "outputs": []
    },
    {
      "cell_type": "code",
      "metadata": {
        "id": "r_LjDXoCLGsG",
        "colab_type": "code",
        "colab": {}
      },
      "source": [
        "link = 'YOUR LINK'\n",
        "fluff, id = link.split('=')\n",
        "\n",
        "downloaded = drive.CreateFile({'id':id}) \n",
        "downloaded.GetContentFile('BreadBasket_DMS.csv')"
      ],
      "execution_count": 0,
      "outputs": []
    },
    {
      "cell_type": "code",
      "metadata": {
        "id": "x3T5bx3FLKDy",
        "colab_type": "code",
        "colab": {}
      },
      "source": [
        "df = pd.read_csv(\"BreadBasket_DMS.csv\")\n",
        "df.head()"
      ],
      "execution_count": 0,
      "outputs": []
    },
    {
      "cell_type": "markdown",
      "metadata": {
        "id": "cAoAw7nnMNql",
        "colab_type": "text"
      },
      "source": [
        "### Analisi del dato e Preprocessing"
      ]
    },
    {
      "cell_type": "code",
      "metadata": {
        "id": "4i5Ay91lMRpC",
        "colab_type": "code",
        "colab": {}
      },
      "source": [
        "print(\"il dataset contiene \", df.shape[0], \" righe e \", df.shape[1], \" colonne\")\n",
        "print(\"\\n\")\n",
        "print(df.info())"
      ],
      "execution_count": 0,
      "outputs": []
    },
    {
      "cell_type": "markdown",
      "metadata": {
        "id": "z87OFNnZTgE-",
        "colab_type": "text"
      },
      "source": [
        "Dalle informazioni nel dataset sembra non esserci nessun dato mancante ma se sicontrollano i 95 prodotti (*Item*) presenti nel menù del locale si scopre un inquietante prodotto **NONE** che compare quasi 800 volte.\n",
        "\n",
        "Il primo lavoro di preprocessing è rimuovere le righe in cui è presente il valore mancante. Lo facciamo mediante il metodo *drop* utilizzando l'indice di riga delle osservazioni con *Item* = **NONE**."
      ]
    },
    {
      "cell_type": "code",
      "metadata": {
        "id": "7a-EfZW4MTZD",
        "colab_type": "code",
        "colab": {}
      },
      "source": [
        "print(sorted(set(df[\"Item\"])))\n",
        "print(\"Number of Item: \", len(set(df[\"Item\"])))\n",
        "print(\"NONE Item freq: \", df.loc[df['Item']=='NONE','Transaction'].count())"
      ],
      "execution_count": 0,
      "outputs": []
    },
    {
      "cell_type": "code",
      "metadata": {
        "id": "yQ1LWEABSJ8h",
        "colab_type": "code",
        "colab": {}
      },
      "source": [
        "df.drop(df.loc[df['Item']=='NONE',:].index, inplace=True)\n",
        "print(\"Number of Item: \", len(set(df[\"Item\"])))"
      ],
      "execution_count": 0,
      "outputs": []
    },
    {
      "cell_type": "markdown",
      "metadata": {
        "id": "ijlAKEB3baeX",
        "colab_type": "text"
      },
      "source": [
        "Vediamo i primi 10 prodotti più acquistati."
      ]
    },
    {
      "cell_type": "code",
      "metadata": {
        "id": "JeKNdM8vVSSe",
        "colab_type": "code",
        "colab": {}
      },
      "source": [
        "df['Item'].value_counts().sort_values(ascending=False).head(10)"
      ],
      "execution_count": 0,
      "outputs": []
    },
    {
      "cell_type": "code",
      "metadata": {
        "id": "QzXABRoRpUvY",
        "colab_type": "code",
        "colab": {}
      },
      "source": [
        "fig, ax=plt.subplots(figsize=(18,10))\n",
        "df['Item'].value_counts().sort_values(ascending=False).head(10).plot(kind='bar')\n",
        "plt.ylabel('Number of transactions')\n",
        "plt.xlabel('Items')\n",
        "ax.get_yaxis().get_major_formatter().set_scientific(False)\n",
        "plt.title('Prodotti più venduti')"
      ],
      "execution_count": 0,
      "outputs": []
    },
    {
      "cell_type": "markdown",
      "metadata": {
        "id": "Jwajuw1Up0Wr",
        "colab_type": "text"
      },
      "source": [
        "Dividiamo la giornata in fasce orarie:\n",
        "* Mattina\n",
        "* Pomeriggio\n",
        "* Sera\n",
        "* Notte\n",
        "\n",
        "Per vedere qual è la parte della giornata con il maggior numero di transazioni.\n",
        "\n",
        "Vista la tipologia di attività ci aspettiamo una grossa mole di lavoro la mattina e il pomeriggio, molto meno la sera, quasi niente la notte."
      ]
    },
    {
      "cell_type": "code",
      "metadata": {
        "id": "jWXZD9rHqhRI",
        "colab_type": "code",
        "colab": {}
      },
      "source": [
        "df.loc[(df['Time']<'12:00:00'),'Daytime']='Morning'\n",
        "df.loc[(df['Time']>='12:00:00')&(df['Time']<'17:00:00'),'Daytime']='Afternoon'\n",
        "df.loc[(df['Time']>='17:00:00')&(df['Time']<'21:00:00'),'Daytime']='Evening'\n",
        "df.loc[(df['Time']>='21:00:00')&(df['Time']<'23:50:00'),'Daytime']='Night'"
      ],
      "execution_count": 0,
      "outputs": []
    },
    {
      "cell_type": "code",
      "metadata": {
        "id": "NgfXvMnwqsXQ",
        "colab_type": "code",
        "colab": {}
      },
      "source": [
        "fig, ax=plt.subplots(figsize=(18,10))\n",
        "sns.set_style('darkgrid')\n",
        "df.groupby('Daytime')['Item'].count().sort_values().plot(kind='bar')\n",
        "plt.ylabel('Number of transactions')\n",
        "ax.get_yaxis().get_major_formatter().set_scientific(False)\n",
        "plt.title('Transazioni per fasce orarie')"
      ],
      "execution_count": 0,
      "outputs": []
    },
    {
      "cell_type": "markdown",
      "metadata": {
        "id": "EKzcHmWZrU33",
        "colab_type": "text"
      },
      "source": [
        "Continuiamo l'arricchimento del dataset estraendo informazioni dalla variabile temporale. E vediamo la serie di transazioni giornaliere dell'attività.\n",
        "\n",
        "Il periodo natalizio non è stato molto fortunato."
      ]
    },
    {
      "cell_type": "code",
      "metadata": {
        "id": "SMHyKoZWrbaV",
        "colab_type": "code",
        "colab": {}
      },
      "source": [
        "df['Date_Time']=pd.to_datetime(df['Date']+' '+df['Time'])\n",
        "df['Day']=df['Date_Time'].dt.day_name()\n",
        "df['Month']=df['Date_Time'].dt.month\n",
        "df['Month_name']=df['Date_Time'].dt.month_name()\n",
        "df['Year']=df['Date_Time'].dt.year\n",
        "df['Year_Month']=df['Year'].apply(str)+' '+df['Month_name'].apply(str)\n",
        "\n",
        "df.index=df['Date_Time']\n",
        "df.index.name='Date'\n",
        "df.drop(['Date_Time', 'Date','Time'],axis=1,inplace=True)\n",
        "df.head()"
      ],
      "execution_count": 0,
      "outputs": []
    },
    {
      "cell_type": "code",
      "metadata": {
        "id": "plxFhxuNst_o",
        "colab_type": "code",
        "colab": {}
      },
      "source": [
        "fig, ax=plt.subplots(figsize=(18,10))\n",
        "df['Item'].resample('D').count().plot()\n",
        "plt.ylabel('Number of transactions')\n",
        "plt.title('Daily business during the past months')"
      ],
      "execution_count": 0,
      "outputs": []
    },
    {
      "cell_type": "markdown",
      "metadata": {
        "id": "uLKQXP7qtPr-",
        "colab_type": "text"
      },
      "source": [
        "### Preparazione del dataset\n",
        "\n",
        "Per applicare le regole associative, in paerticolare l'algoritmo apriori bisogna trasformare il dataframe in una lista di transazioni con gli item acquistati insieme."
      ]
    },
    {
      "cell_type": "code",
      "metadata": {
        "id": "-oSa8BjItggg",
        "colab_type": "code",
        "colab": {}
      },
      "source": [
        "lst=[]\n",
        "for item in df['Transaction'].unique():\n",
        "    lst2=list(set(df[df['Transaction']==item]['Item']))\n",
        "    if len(lst2)>0:\n",
        "        lst.append(lst2)\n",
        "print(\"le prime tre transazioni: \", lst[0:3])\n",
        "print(\"\\n\")\n",
        "print(\"numero di transazioni: \",len(lst))"
      ],
      "execution_count": 0,
      "outputs": []
    },
    {
      "cell_type": "markdown",
      "metadata": {
        "id": "PDvrCrQlywTL",
        "colab_type": "text"
      },
      "source": [
        "Per prima cosa facciamo One-Hot Encoding sulle transazioni mediante *TransactionEncoder*."
      ]
    },
    {
      "cell_type": "code",
      "metadata": {
        "id": "e3yW3vkc17HI",
        "colab_type": "code",
        "colab": {}
      },
      "source": [
        "te=TransactionEncoder()\n",
        "te_data=te.fit(lst).transform(lst)\n",
        "data_x=pd.DataFrame(te_data,columns=te.columns_)\n",
        "print(data_x.head())"
      ],
      "execution_count": 0,
      "outputs": []
    },
    {
      "cell_type": "markdown",
      "metadata": {
        "id": "a9UpQ1vN2EXD",
        "colab_type": "text"
      },
      "source": [
        "### Applicazione dell'algoritmo\n",
        "\n",
        "Usiamo l'algoritmo a priori con un supporto minimo pari a 0.3 quindi gli item deveono comparire nel 30% delle transazioni per essere considerati.\n",
        "\n",
        "questo algortimo ci restituisce anche altre due metriche rispetto a quelle sopra citate:\n",
        "* leverage: La differenza tra il supporto e il prodotto delle coverage.\n",
        "* conviction: Misura di dipendenza della *TESTA* dal *CORPO*. Più è alto più è dipendente."
      ]
    },
    {
      "cell_type": "code",
      "metadata": {
        "id": "TbJAzaSv2INO",
        "colab_type": "code",
        "colab": {}
      },
      "source": [
        "frequent_items= apriori(data_x, use_colnames=True, min_support=0.03)\n",
        "print(frequent_items.head())\n",
        "\n",
        "rules = association_rules(frequent_items, metric=\"lift\", min_threshold=1)\n",
        "rules.antecedents = rules.antecedents.apply(lambda x: next(iter(x)))\n",
        "rules.consequents = rules.consequents.apply(lambda x: next(iter(x)))\n",
        "rules"
      ],
      "execution_count": 0,
      "outputs": []
    },
    {
      "cell_type": "markdown",
      "metadata": {
        "id": "kUU2B1qm2S3Z",
        "colab_type": "text"
      },
      "source": [
        "Infine usiamo la libreria networkx per trovare le connessioni tra gli item più frequenti e trovare il prodotto più influente.\n",
        "\n",
        "[**SPOILER ALERT!!!**] Siamo in una caffetteria."
      ]
    },
    {
      "cell_type": "code",
      "metadata": {
        "id": "7EykiNk92ds_",
        "colab_type": "code",
        "colab": {}
      },
      "source": [
        "fig, ax=plt.subplots(figsize=(18,10))\n",
        "GA=nx.from_pandas_edgelist(rules,source='antecedents',target='consequents')\n",
        "nx.draw(GA,with_labels=True)\n",
        "plt.show()"
      ],
      "execution_count": 0,
      "outputs": []
    },
    {
      "cell_type": "markdown",
      "metadata": {
        "id": "IYNcKBGDVpQ2",
        "colab_type": "text"
      },
      "source": [
        "### Link Utili\n",
        "\n",
        "[Bakery Business Model](https://www.kaggle.com/bbhatt001/bakery-business-model-association-rules)\n",
        "\n",
        "[Kaggle Association Rules Mining/MBA](https://www.kaggle.com/datatheque/association-rules-mining-market-basket-analysis)\n",
        "\n",
        "[Apriori](https://en.wikipedia.org/wiki/Apriori_algorithm)\n",
        "\n",
        "[Association Rules and Apriori Algorithm](https://www.kdnuggets.com/2016/04/association-rules-apriori-algorithm-tutorial.html)\n",
        "\n",
        "[KNIME social media association](https://hub.knime.com/knime/spaces/Examples/latest/50_Applications/04_LastFM_Recommendations/01_LastFM_Recommendations)\n",
        "\n",
        "[Slides UniBO](https://www.google.com/url?sa=t&rct=j&q=&esrc=s&source=web&cd=1&ved=2ahUKEwicnoa25IDoAhUjolwKHUZTDYQQFjAAegQIARAB&url=http%3A%2F%2Fwww-db.deis.unibo.it%2Fcourses%2FSID%2Fold%2FLezioni%2F02%2520-%2520Regole%2520associative.pdf&usg=AOvVaw1fpDtMqi4b01ZbBRSZAiKm)"
      ]
    }
  ]
}